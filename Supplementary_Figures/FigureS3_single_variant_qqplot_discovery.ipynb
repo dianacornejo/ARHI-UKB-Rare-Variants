{
 "cells": [
  {
   "cell_type": "markdown",
   "id": "beea291c-3d69-45fd-917a-e6e7c845be0f",
   "metadata": {
    "kernel": "SoS",
    "tags": []
   },
   "source": [
    "# Figure S3. Q-Q plots for single variant association analysis of the discovery sample\n",
    "\n",
    "Q-Q plots were generated using the pipeline `LMM.ipynb`. The following cells contains the chunk of code responsible for the generation of these plots."
   ]
  },
  {
   "cell_type": "code",
   "execution_count": 3,
   "id": "7a66a2a6-f6d6-4225-917e-09740b4d8173",
   "metadata": {
    "kernel": "R",
    "tags": []
   },
   "outputs": [],
   "source": [
    "plots <- function(file,trait,out){\n",
    "library('qqman')\n",
    "data <- read.table(gzfile(file), sep='\\t', header=T)\n",
    "lambda <- median(qchisq(1-data$P,1), na.rm=TRUE)/qchisq(0.5,1)\n",
    "png(out, width = 5, height = 5, unit='in', res=300)\n",
    "qq_plot <- qq(data$P, main = trait, xlim = c(0, 8), ylim = c(0, 16), pch = 18, col = \"blue4\", cex = 1.5, las = 1)\n",
    "dev.off()\n",
    "}"
   ]
  },
  {
   "cell_type": "markdown",
   "id": "035aa420-1c1d-4327-8917-41966fc39803",
   "metadata": {
    "kernel": "SoS"
   },
   "source": [
    "## Panel A. H-aid"
   ]
  },
  {
   "cell_type": "code",
   "execution_count": null,
   "id": "85d0cf82-241a-4148-acbf-954648c9548f",
   "metadata": {
    "kernel": "R",
    "tags": []
   },
   "outputs": [],
   "source": [
    "file <- \"~/UKBiobank/results/REGENIE_results/results_exome_data/091421_f3393_hearing_aid_150K/090321_UKBB_Hearing_aid_f3393_expandedwhite_78848ind_150K_f3393.regenie.snp_stats.gz\"\n",
    "trait <- \"f3393\"\n",
    "out <- \"~/UKBiobank/results/REGENIE_results/results_exome_data/042622_paper_manhattan/150k.f3393_qqplot.png\"\n",
    "plots(file,trait,out)"
   ]
  },
  {
   "cell_type": "code",
   "execution_count": null,
   "id": "0051c97d-ec66-484e-bbf5-154b7101af30",
   "metadata": {
    "kernel": "SoS",
    "tags": []
   },
   "outputs": [],
   "source": [
    "%preview ~/UKBiobank/results/REGENIE_results/results_exome_data/042622_paper_manhattan/150k.f3393_qqplot.png -n "
   ]
  },
  {
   "cell_type": "markdown",
   "id": "bf92ee6c-bf66-4ebe-b73b-f0a6e6b028e6",
   "metadata": {
    "kernel": "SoS"
   },
   "source": [
    "## Panel B. H-diff"
   ]
  },
  {
   "cell_type": "code",
   "execution_count": null,
   "id": "a9aaa302-5f80-4caa-b8ce-896c21b3163c",
   "metadata": {
    "kernel": "R",
    "tags": []
   },
   "outputs": [],
   "source": [
    "file <- \"~/UKBiobank/results/REGENIE_results/results_exome_data/091421_f2247_hearing_difficulty_150K/090321_UKBB_Hearing_difficulty_f2247_expandedwhite_107507ind_150K_f2247.regenie.snp_stats.gz\"\n",
    "trait <- \"f2247\"\n",
    "out <- \"~/UKBiobank/results/REGENIE_results/results_exome_data/042622_paper_manhattan/150k.f2247_qqplot.png\"\n",
    "plots(file,trait,out)"
   ]
  },
  {
   "cell_type": "code",
   "execution_count": null,
   "id": "5e26e766-85ab-42f4-915a-579361924487",
   "metadata": {
    "kernel": "SoS",
    "tags": []
   },
   "outputs": [],
   "source": [
    "%preview ~/UKBiobank/results/REGENIE_results/results_exome_data/042622_paper_manhattan/150k.f2247_qqplot.png -n"
   ]
  },
  {
   "cell_type": "markdown",
   "id": "b7d1d945-352e-4623-8804-2a5fa44e7f5b",
   "metadata": {
    "kernel": "SoS"
   },
   "source": [
    "## Panel C. H-noise"
   ]
  },
  {
   "cell_type": "code",
   "execution_count": null,
   "id": "f338b87c-5d17-4af8-95fa-8f1f036aad2b",
   "metadata": {
    "kernel": "R",
    "tags": []
   },
   "outputs": [],
   "source": [
    "file <- \"~/UKBiobank/results/REGENIE_results/results_exome_data/091421_f2257_hearing_noise_150K/090321_UKBB_Hearing_noise_f2257_expandedwhite_123538ind_150K_f2257.regenie.snp_stats.gz\"\n",
    "trait <- \"f2257\"\n",
    "out <- \"~/UKBiobank/results/REGENIE_results/results_exome_data/042622_paper_manhattan/150k.f2257_qqplot.png\"\n",
    "plots(file,trait,out)"
   ]
  },
  {
   "cell_type": "code",
   "execution_count": null,
   "id": "9d08b1a7-e5dd-4f16-a56e-a37330c9c35b",
   "metadata": {
    "kernel": "SoS",
    "tags": []
   },
   "outputs": [],
   "source": [
    "%preview ~/UKBiobank/results/REGENIE_results/results_exome_data/042622_paper_manhattan/150k.f2257_qqplot.png"
   ]
  },
  {
   "cell_type": "markdown",
   "id": "81b16284-3231-4c2b-94f2-55c24a4d5a5e",
   "metadata": {
    "kernel": "SoS"
   },
   "source": [
    "## Panel D. H-both"
   ]
  },
  {
   "cell_type": "code",
   "execution_count": null,
   "id": "beebdbd6-7252-4817-8744-d0ea211b52ce",
   "metadata": {
    "kernel": "R",
    "tags": []
   },
   "outputs": [],
   "source": [
    "file <- \"~/UKBiobank/results/REGENIE_results/results_exome_data/091421_combined_150K/090321_UKBB_Combined_f2247_f2257_expandedwhite_102133ind_150K_f2247_f2257.regenie.snp_stats.gz\"\n",
    "trait <- \"f2247_f2257\"\n",
    "out <- \"~/UKBiobank/results/REGENIE_results/results_exome_data/042622_paper_manhattan/150k.f2247_f2257_qqplot.png\"\n",
    "plots(file,trait,out)"
   ]
  },
  {
   "cell_type": "code",
   "execution_count": null,
   "id": "bf9f6e63-519c-4921-86a5-8ae4800c8fa2",
   "metadata": {
    "kernel": "SoS"
   },
   "outputs": [],
   "source": [
    "%preview ~/UKBiobank/results/REGENIE_results/results_exome_data/042622_paper_manhattan/150k.f2247_f2257_qqplot.png -n "
   ]
  },
  {
   "cell_type": "code",
   "execution_count": null,
   "id": "986c9ba4-1165-45b5-8b98-d0d154273947",
   "metadata": {
    "kernel": "SoS"
   },
   "outputs": [],
   "source": []
  }
 ],
 "metadata": {
  "kernelspec": {
   "display_name": "SoS",
   "language": "sos",
   "name": "sos"
  },
  "language_info": {
   "codemirror_mode": "sos",
   "file_extension": ".sos",
   "mimetype": "text/x-sos",
   "name": "sos",
   "nbconvert_exporter": "sos_notebook.converter.SoS_Exporter",
   "pygments_lexer": "sos"
  },
  "sos": {
   "kernels": [
    [
     "R",
     "ir",
     "R",
     "#DCDCDA",
     "r"
    ],
    [
     "SoS",
     "sos",
     "",
     "",
     "sos"
    ]
   ],
   "version": "0.22.6"
  }
 },
 "nbformat": 4,
 "nbformat_minor": 5
}
