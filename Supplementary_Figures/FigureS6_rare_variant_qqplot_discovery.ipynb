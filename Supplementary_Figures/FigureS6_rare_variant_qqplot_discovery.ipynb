{
 "cells": [
  {
   "cell_type": "markdown",
   "id": "469181bc-e3ce-4a4f-a35c-ccae8ef3c495",
   "metadata": {
    "kernel": "SoS",
    "tags": []
   },
   "source": [
    "# Figure S6. Q-Q plots for rare-variant association analysis of the Discovery sample\n",
    "\n",
    "Q-Q plots were generated using the pipeline `LMM.ipynb`. The following cells contains the chunk of code responsible for the generation of these plots."
   ]
  },
  {
   "cell_type": "code",
   "execution_count": null,
   "id": "ec93e596-0e7b-4fcf-84ce-9d1ac6583540",
   "metadata": {
    "kernel": "SoS"
   },
   "outputs": [],
   "source": []
  }
 ],
 "metadata": {
  "kernelspec": {
   "display_name": "SoS",
   "language": "sos",
   "name": "sos"
  },
  "language_info": {
   "codemirror_mode": "sos",
   "file_extension": ".sos",
   "mimetype": "text/x-sos",
   "name": "sos",
   "nbconvert_exporter": "sos_notebook.converter.SoS_Exporter",
   "pygments_lexer": "sos"
  },
  "sos": {
   "kernels": [
    [
     "SoS",
     "sos",
     "",
     ""
    ]
   ],
   "version": "0.22.6"
  }
 },
 "nbformat": 4,
 "nbformat_minor": 5
}
