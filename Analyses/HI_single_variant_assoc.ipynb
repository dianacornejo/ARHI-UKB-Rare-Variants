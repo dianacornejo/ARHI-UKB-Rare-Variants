{
 "cells": [
  {
   "cell_type": "markdown",
   "id": "f4bb2ddc-1231-4001-873d-c594856056a5",
   "metadata": {
    "kernel": "SoS",
    "tags": []
   },
   "source": [
    "# Single variant association analysis of white Caucasian individuals from the UK Biobank with age-related hearing impairment (ARHI) traits"
   ]
  },
  {
   "cell_type": "markdown",
   "id": "548ec3ec-017f-4030-90f5-62375821c037",
   "metadata": {
    "kernel": "SoS"
   },
   "source": [
    "This notebook focuses on performing association analysis of single variants from exome and imputed data of white Caucasian individuals from the UK Biobank that have ARHI \n",
    "\n",
    "The phenotypes analyzed here are:\n",
    "\n",
    "1. Hearing aid f.3393 - H-aid\n",
    "2. Hearing difficulty f.2247 - H-diff\n",
    "3. Hearing difficulty with background noise f.2257 - H-noise\n",
    "4. A combined phenotype of f.2247 & f.2257 - H-both\n",
    "\n",
    "The software used for these analyses was Regenie and the workflows to run the analyses are [here](https://github.com/cumc/bioworkflows/blob/master/GWAS/LMM.ipynb)\n",
    "\n",
    "The docker image that contains all the necessary software installations to run this notebook and workflow can be found retrieve by the following command:\n",
    "`docker pull statisticalgenetics/lmm:3.0`"
   ]
  },
  {
   "cell_type": "markdown",
   "id": "47f22925-9d5c-4713-bad8-4b77190ce365",
   "metadata": {
    "kernel": "SoS"
   },
   "source": [
    "## Global variables"
   ]
  },
  {
   "cell_type": "code",
   "execution_count": null,
   "id": "08e3524a-b58f-44fb-b795-7aaadb080be6",
   "metadata": {
    "kernel": "SoS"
   },
   "outputs": [],
   "source": [
    "lmm_sos=~/bioworkflows/GWAS/LMM.ipynb\n",
    "lmm_exome_dir_regenie=~/results/REGENIE_results/results_exome_data\n",
    "hearing_pheno_path=~/phenotype_files/hearing_impairment\n",
    "formatFile_regenie=~/UKBB_GWAS_dev/data/regenie_template.yml\n",
    "container_lmm=~/containers/lmm.sif\n",
    "container_marp=~/containers/marp.sif"
   ]
  },
  {
   "cell_type": "markdown",
   "id": "8a097a19-d8d4-4b12-86e1-15ddde7bcaef",
   "metadata": {
    "kernel": "SoS"
   },
   "source": [
    "## Linear Mixed Model parameters for Regenie single variant analysis"
   ]
  },
  {
   "cell_type": "code",
   "execution_count": null,
   "id": "8c861423-7bcc-4a02-970e-3d74a1534035",
   "metadata": {
    "kernel": "SoS"
   },
   "outputs": [],
   "source": [
    "bsize=1000\n",
    "lowmem_dir=~/tmp/\n",
    "trait=bt\n",
    "minMAC=4\n",
    "# These parameters are set to 0 because the *.bed file has already been quality controlled\n",
    "maf_filter=0\n",
    "geno_filter=0\n",
    "hwe_filter=0\n",
    "mind_filter=0\n",
    "reverse_log_p=True\n",
    "y_lim=0\n",
    "numThreads=20\n",
    "bfile=~/genotype_files_processed/090221_sample_variant_qc_final_callrate90/cache/UKB_genotypedatadownloaded083019.090221_sample_variant_qc_final_callrate90.filtered.extracted.bed\n",
    "genoFile=`echo ~/data/exome_files/project_VCF/072721_run/plink/ukb23156_c{1..22}.merged.filtered.bed`"
   ]
  },
  {
   "cell_type": "markdown",
   "id": "aa1bb42b-5bba-4743-a728-f205b9381703",
   "metadata": {
    "kernel": "SoS"
   },
   "source": [
    "# Discovery sample"
   ]
  },
  {
   "cell_type": "markdown",
   "id": "180a9c99-ea62-4c73-a9c8-e71d0973ebb2",
   "metadata": {
    "kernel": "SoS"
   },
   "source": [
    "## H-aid"
   ]
  },
  {
   "cell_type": "code",
   "execution_count": null,
   "id": "375765e8-ae64-42aa-a806-e7167dec256e",
   "metadata": {
    "kernel": "SoS"
   },
   "outputs": [],
   "source": [
    "lmm_dir_regenie=$lmm_exome_dir_regenie/091421_f3393_hearing_aid_150K\n",
    "lmm_sbatch_regenie=~/scripts/f3393_hearing_aid_150K-regenie_$(date +\"%Y-%m-%d\").sbatch\n",
    "phenoFile=$hearing_pheno_path/090321_UKBB_Hearing_aid_f3393_expandedwhite_78848ind_150K.tsv\n",
    "phenoCol=f3393\n",
    "covarCol=sex\n",
    "qCovarCol=\"age PC1 PC2\"\n",
    "anno_file=$lmm_exome_dir_regenie/091421_f3393_hearing_aid_150K/091721_annotation/*.formatted.csv\n",
    "label_annotate=Gene\n",
    "\n",
    "lmm_args=\"\"\"regenie\n",
    "    --cwd $lmm_dir_regenie \n",
    "    --bfile $bfile \n",
    "    --genoFile $genoFile\n",
    "    --phenoFile $phenoFile \n",
    "    --formatFile $formatFile_regenie \n",
    "    --phenoCol $phenoCol\n",
    "    --covarCol $covarCol  \n",
    "    --qCovarCol $qCovarCol\n",
    "    --bsize $bsize\n",
    "    --lowmem_dir $lowmem_dir\n",
    "    --trait $trait \n",
    "    --maf_filter $maf_filter\n",
    "    --geno_filter $geno_filter\n",
    "    --hwe_filter $hwe_filter\n",
    "    --mind_filter $mind_filter\n",
    "    --minMAC $minMAC\n",
    "    --job_size $lmm_job_size\n",
    "    --ylim $ylim\n",
    "    --reverse_log_p $reverse_log_p\n",
    "    --numThreads $numThreads\n",
    "    --anno_file $anno_file\n",
    "    --label_annotate $label_annotate\n",
    "    --annotate\n",
    "    --container_lmm $container_lmm\n",
    "    --container_marp $container_marp\n",
    "\"\"\"\n",
    "\n",
    "sos run ~/project/UKBB_GWAS_dev/admin/Get_Job_Script.ipynb csg\\\n",
    "    --template-file $tpl_file \\\n",
    "    --workflow-file $lmm_sos \\\n",
    "    --to-script $lmm_sbatch_regenie \\\n",
    "    --args \"$lmm_args\""
   ]
  },
  {
   "cell_type": "markdown",
   "id": "f2e847da-03c4-466d-903d-a4103319f691",
   "metadata": {
    "kernel": "SoS"
   },
   "source": [
    "## H-diff"
   ]
  },
  {
   "cell_type": "code",
   "execution_count": null,
   "id": "230e982f-63de-4fc4-90ef-8a1604e5ff9e",
   "metadata": {
    "kernel": "SoS"
   },
   "outputs": [],
   "source": [
    "lmm_dir_regenie=$lmm_exome_dir_regenie/091421_f2247_hearing_difficulty_150K\n",
    "lmm_sbatch_regenie=~/scripts/f2247_hearing_difficulty_150K-regenie_$(date +\"%Y-%m-%d\").sbatch\n",
    "phenoFile=$hearing_pheno_path/090321_UKBB_Hearing_difficulty_f2247_expandedwhite_107507ind_150K.tsv\n",
    "phenoCol=f2247\n",
    "covarCol=sex\n",
    "qCovarCol=\"age PC1 PC2\"\n",
    "anno_file=$lmm_exome_dir_regenie/091421_f2247_hearing_difficulty_150K/091721_annotation/*.formatted.csv\n",
    "label_annotate='Gene'\n",
    "\n",
    "lmm_args=\"\"\"regenie\n",
    "    --cwd $lmm_dir_regenie \n",
    "    --bfile $bfile \n",
    "    --genoFile $genoFile\n",
    "    --phenoFile $phenoFile \n",
    "    --formatFile $formatFile_regenie \n",
    "    --phenoCol $phenoCol\n",
    "    --covarCol $covarCol  \n",
    "    --qCovarCol $qCovarCol\n",
    "    --bsize $bsize\n",
    "    --lowmem_dir $lowmem_dir\n",
    "    --trait $trait \n",
    "    --maf_filter $maf_filter\n",
    "    --geno_filter $geno_filter\n",
    "    --hwe_filter $hwe_filter\n",
    "    --mind_filter $mind_filter\n",
    "    --minMAC $minMAC\n",
    "    --job_size $lmm_job_size\n",
    "    --ylim $ylim\n",
    "    --reverse_log_p $reverse_log_p\n",
    "    --numThreads $numThreads\n",
    "    --anno_file $anno_file\n",
    "    --label_annotate $label_annotate\n",
    "    --annoate\n",
    "    --container_lmm $container_lmm\n",
    "    --container_marp $container_marp\n",
    "\"\"\"\n",
    "\n",
    "sos run ~/project/UKBB_GWAS_dev/admin/Get_Job_Script.ipynb csg\\\n",
    "    --template-file $tpl_file \\\n",
    "    --workflow-file $lmm_sos \\\n",
    "    --to-script $lmm_sbatch_regenie \\\n",
    "    --args \"$lmm_args\""
   ]
  },
  {
   "cell_type": "markdown",
   "id": "6ad6566d-c8ce-4a1d-a763-9f56215570b4",
   "metadata": {
    "kernel": "SoS"
   },
   "source": [
    "## H-noise"
   ]
  },
  {
   "cell_type": "code",
   "execution_count": null,
   "id": "92f5e8bb-8a97-4f18-b9fa-802641e7945b",
   "metadata": {
    "kernel": "SoS"
   },
   "outputs": [],
   "source": [
    "lmm_dir_regenie=$lmm_exome_dir_regenie/091421_f2257_hearing_noise_150K\n",
    "lmm_sbatch_regenie=~/scripts/f2257_noise_150K-regenie_$(date +\"%Y-%m-%d\").sbatch\n",
    "phenoFile=$hearing_pheno_path/090321_UKBB_Hearing_noise_f2257_expandedwhite_123538ind_150K.tsv\n",
    "phenoCol=f2257\n",
    "covarCol=sex\n",
    "qCovarCol=\"age PC1 PC2\"\n",
    "anno_file=$lmm_exome_dir_regenie/091421_f2257_hearing_noise_150K/091721_annotation/*.formatted.csv\n",
    "label_annotate='Gene'\n",
    "\n",
    "lmm_args=\"\"\"regenie\n",
    "    --cwd $lmm_dir_regenie \n",
    "    --bfile $bfile \n",
    "    --genoFile $genoFile\n",
    "    --phenoFile $phenoFile \n",
    "    --formatFile $formatFile_regenie \n",
    "    --phenoCol $phenoCol\n",
    "    --covarCol $covarCol  \n",
    "    --qCovarCol $qCovarCol\n",
    "    --bsize $bsize\n",
    "    --lowmem_dir $lowmem_dir\n",
    "    --trait $trait \n",
    "    --maf_filter $maf_filter\n",
    "    --geno_filter $geno_filter\n",
    "    --hwe_filter $hwe_filter\n",
    "    --mind_filter $mind_filter\n",
    "    --minMAC $minMAC\n",
    "    --job_size $lmm_job_size\n",
    "    --ylim $ylim\n",
    "    --reverse_log_p $reverse_log_p\n",
    "    --numThreads $numThreads\n",
    "    --anno_file $anno_file\n",
    "    --label_annotate $label_annotate\n",
    "    --annotate\n",
    "    --container_lmm $container_lmm\n",
    "    --container_marp $container_marp\n",
    "\"\"\"\n",
    "\n",
    "sos run ~/project/UKBB_GWAS_dev/admin/Get_Job_Script.ipynb csg\\\n",
    "    --template-file $tpl_file \\\n",
    "    --workflow-file $lmm_sos \\\n",
    "    --to-script $lmm_sbatch_regenie \\\n",
    "    --args \"$lmm_args\""
   ]
  },
  {
   "cell_type": "markdown",
   "id": "64520d0a-bbfc-493a-b562-de282e4c9ee2",
   "metadata": {
    "kernel": "SoS"
   },
   "source": [
    "## H-both"
   ]
  },
  {
   "cell_type": "code",
   "execution_count": null,
   "id": "a948c2f6-07f1-44aa-af13-d244551838a9",
   "metadata": {
    "kernel": "SoS"
   },
   "outputs": [],
   "source": [
    "lmm_dir_regenie=$lmm_exome_dir_regenie/091421_combined_150K\n",
    "lmm_sbatch_regenie=~/scripts/combined_150K-regenie_$(date +\"%Y-%m-%d\").sbatch\n",
    "phenoFile=$hearing_pheno_path/090321_UKBB_Combined_f2247_f2257_expandedwhite_102133ind_150K.tsv\n",
    "phenoCol=f2247_f2257\n",
    "covarCol=sex\n",
    "qCovarCol=\"age PC1 PC2\"\n",
    "anno_file=$lmm_exome_dir_regenie/091421_combined_150K/091721_annotation/*.formatted.csv\n",
    "label_annotate='Gene'\n",
    "\n",
    "\n",
    "lmm_args=\"\"\"regenie\n",
    "    --cwd $lmm_dir_regenie \n",
    "    --bfile $bfile \n",
    "    --genoFile $genoFile\n",
    "    --phenoFile $phenoFile \n",
    "    --formatFile $formatFile_regenie \n",
    "    --phenoCol $phenoCol\n",
    "    --covarCol $covarCol  \n",
    "    --qCovarCol $qCovarCol\n",
    "    --bsize $bsize\n",
    "    --lowmem_dir $lowmem_dir\n",
    "    --trait $trait \n",
    "    --maf_filter $maf_filter\n",
    "    --geno_filter $geno_filter\n",
    "    --hwe_filter $hwe_filter\n",
    "    --mind_filter $mind_filter\n",
    "    --minMAC $minMAC\n",
    "    --job_size $lmm_job_size\n",
    "    --ylim $ylim\n",
    "    --reverse_log_p $reverse_log_p\n",
    "    --numThreads $numThreads\n",
    "    --anno_file $anno_file\n",
    "    --label_annotate $label_annotate\n",
    "    --annotate\n",
    "    --container_lmm $container_lmm\n",
    "    --container_marp $container_marp\n",
    "\"\"\"\n",
    "\n",
    "sos run ~/project/UKBB_GWAS_dev/admin/Get_Job_Script.ipynb csg\\\n",
    "    --template-file $tpl_file \\\n",
    "    --workflow-file $lmm_sos \\\n",
    "    --to-script $lmm_sbatch_regenie \\\n",
    "    --args \"$lmm_args\""
   ]
  },
  {
   "cell_type": "markdown",
   "id": "7a450929-6d74-4b3d-8bf3-a9ec7ecb6997",
   "metadata": {
    "kernel": "SoS"
   },
   "source": [
    "# Replication sample"
   ]
  },
  {
   "cell_type": "markdown",
   "id": "30a7384f-823a-4da9-8135-b6e5d9641f29",
   "metadata": {
    "kernel": "SoS"
   },
   "source": [
    "## H-aid"
   ]
  },
  {
   "cell_type": "code",
   "execution_count": null,
   "id": "846c6fcb-a016-423b-9cba-a16e7251700f",
   "metadata": {
    "kernel": "SoS"
   },
   "outputs": [],
   "source": [
    "lmm_dir_regenie=$lmm_exome_dir_regenie/091421_f3393_hearing_aid_50K\n",
    "lmm_sbatch_regenie=~/scripts/f3393_hearing_aid_50K-regenie_$(date +\"%Y-%m-%d\").sbatch\n",
    "phenoFile=$hearing_pheno_path/090321_UKBB_Hearing_aid_f3393_expandedwhite_24189ind_50K.tsv\n",
    "phenoCol=f3393\n",
    "covarCol=sex\n",
    "qCovarCol=\"age PC1 PC2\"\n",
    "anno_file=$lmm_exome_dir_regenie/090921_f3393_hearing_aid_200K/091321_annotation/*.formatted.csv\n",
    "label_annotate=Gene\n",
    "\n",
    "lmm_args=\"\"\"regenie\n",
    "    --cwd $lmm_dir_regenie \n",
    "    --bfile $bfile \n",
    "    --genoFile $genoFile\n",
    "    --phenoFile $phenoFile \n",
    "    --formatFile $formatFile_regenie \n",
    "    --phenoCol $phenoCol\n",
    "    --covarCol $covarCol  \n",
    "    --qCovarCol $qCovarCol\n",
    "    --bsize $bsize\n",
    "    --lowmem_dir $lowmem_dir\n",
    "    --trait $trait \n",
    "    --maf_filter $maf_filter\n",
    "    --geno_filter $geno_filter\n",
    "    --hwe_filter $hwe_filter\n",
    "    --mind_filter $mind_filter\n",
    "    --minMAC $minMAC\n",
    "    --job_size $lmm_job_size\n",
    "    --ylim $ylim\n",
    "    --reverse_log_p $reverse_log_p\n",
    "    --numThreads $numThreads\n",
    "    --anno_file $anno_file\n",
    "    --label_annotate $label_annotate\n",
    "    --annotate\n",
    "    --container_lmm $container_lmm\n",
    "    --container_marp $container_marp\n",
    "\"\"\"\n",
    "\n",
    "sos run ~/project/UKBB_GWAS_dev/admin/Get_Job_Script.ipynb csg\\\n",
    "    --template-file $tpl_file \\\n",
    "    --workflow-file $lmm_sos \\\n",
    "    --to-script $lmm_sbatch_regenie \\\n",
    "    --args \"$lmm_args\""
   ]
  },
  {
   "cell_type": "markdown",
   "id": "138bdc1b-87ec-4a27-9cf0-8fd48be371c3",
   "metadata": {
    "kernel": "SoS"
   },
   "source": [
    "## H-diff"
   ]
  },
  {
   "cell_type": "code",
   "execution_count": null,
   "id": "6588ae77-b537-4710-b6a4-0af5cc8d82ae",
   "metadata": {
    "kernel": "SoS"
   },
   "outputs": [],
   "source": [
    "lmm_dir_regenie=$lmm_exome_dir_regenie/091421_f2247_hearing_difficulty_50K\n",
    "lmm_sbatch_regenie=~/scripts/f2247_hearing_difficulty_50K-regenie_$(date +\"%Y-%m-%d\").sbatch\n",
    "phenoFile=$hearing_pheno_path/090321_UKBB_Hearing_difficulty_f2247_expandedwhite_34596ind_50K.tsv\n",
    "phenoCol=f2247\n",
    "covarCol=sex\n",
    "qCovarCol=\"age PC1 PC2\"\n",
    "anno_file=$lmm_exome_dir_regenie/090921_f2247_hearing_difficulty_200K/091321_annotation/*.formatted.csv\n",
    "label_annotate=Gene\n",
    "\n",
    "lmm_args=\"\"\"regenie\n",
    "    --cwd $lmm_dir_regenie \n",
    "    --bfile $bfile \n",
    "    --genoFile $genoFile\n",
    "    --phenoFile $phenoFile \n",
    "    --formatFile $formatFile_regenie \n",
    "    --phenoCol $phenoCol\n",
    "    --covarCol $covarCol  \n",
    "    --qCovarCol $qCovarCol\n",
    "    --bsize $bsize\n",
    "    --lowmem_dir $lowmem_dir\n",
    "    --trait $trait \n",
    "    --maf_filter $maf_filter\n",
    "    --geno_filter $geno_filter\n",
    "    --hwe_filter $hwe_filter\n",
    "    --mind_filter $mind_filter\n",
    "    --minMAC $minMAC\n",
    "    --job_size $lmm_job_size\n",
    "    --ylim $ylim\n",
    "    --reverse_log_p $reverse_log_p\n",
    "    --numThreads $numThreads\n",
    "    --anno_file $anno_file\n",
    "    --label_annotate $label_annotate\n",
    "    --annotate\n",
    "    --container_lmm $container_lmm\n",
    "    --container_marp $container_marp\n",
    "\"\"\"\n",
    "\n",
    "sos run ~/project/UKBB_GWAS_dev/admin/Get_Job_Script.ipynb csg\\\n",
    "    --template-file $tpl_file \\\n",
    "    --workflow-file $lmm_sos \\\n",
    "    --to-script $lmm_sbatch_regenie \\\n",
    "    --args \"$lmm_args\""
   ]
  },
  {
   "cell_type": "markdown",
   "id": "e99e4147-018b-45c4-92b8-de9e5fd325b1",
   "metadata": {
    "kernel": "SoS"
   },
   "source": [
    "## H-noise"
   ]
  },
  {
   "cell_type": "code",
   "execution_count": null,
   "id": "dfd027ab-ed5e-4ec2-a953-69423422ac52",
   "metadata": {
    "kernel": "SoS"
   },
   "outputs": [],
   "source": [
    "lmm_dir_regenie=$lmm_exome_dir_regenie/091421_f2257_hearing_noise_50K\n",
    "lmm_sbatch_regenie=~/scripts/f2257_noise_50K-regenie_$(date +\"%Y-%m-%d\").sbatch\n",
    "phenoFile=$hearing_pheno_path/090321_UKBB_Hearing_noise_f2257_expandedwhite_38723ind_50K.tsv\n",
    "phenoCol=f2257\n",
    "covarCol=sex\n",
    "qCovarCol=\"age PC1 PC2\"\n",
    "anno_file=$lmm_exome_dir_regenie/090921_f2257_hearing_noise_200K/091321_annotation/*.formatted.csv\n",
    "label_annotate=Gene\n",
    "\n",
    "lmm_args=\"\"\"regenie\n",
    "    --cwd $lmm_dir_regenie \n",
    "    --bfile $bfile \n",
    "    --genoFile $genoFile\n",
    "    --phenoFile $phenoFile \n",
    "    --formatFile $formatFile_regenie \n",
    "    --phenoCol $phenoCol\n",
    "    --covarCol $covarCol  \n",
    "    --qCovarCol $qCovarCol\n",
    "    --bsize $bsize\n",
    "    --lowmem_dir $lowmem_dir\n",
    "    --trait $trait \n",
    "    --maf_filter $maf_filter\n",
    "    --geno_filter $geno_filter\n",
    "    --hwe_filter $hwe_filter\n",
    "    --mind_filter $mind_filter\n",
    "    --minMAC $minMAC\n",
    "    --job_size $lmm_job_size\n",
    "    --ylim $ylim\n",
    "    --reverse_log_p $reverse_log_p\n",
    "    --numThreads $numThreads\n",
    "    --anno_file $anno_file\n",
    "    --label_annotate $label_annotate\n",
    "    --annotate\n",
    "    --container_lmm $container_lmm\n",
    "    --container_marp $container_marp\n",
    "\"\"\"\n",
    "\n",
    "sos run ~/project/UKBB_GWAS_dev/admin/Get_Job_Script.ipynb csg\\\n",
    "    --template-file $tpl_file \\\n",
    "    --workflow-file $lmm_sos \\\n",
    "    --to-script $lmm_sbatch_regenie \\\n",
    "    --args \"$lmm_args\""
   ]
  },
  {
   "cell_type": "markdown",
   "id": "48434dfe-8fd5-4f2a-a92e-75aa04c5abfb",
   "metadata": {
    "kernel": "SoS"
   },
   "source": [
    "## H-both"
   ]
  },
  {
   "cell_type": "code",
   "execution_count": null,
   "id": "1fe9a924-9eff-495c-9d70-41cbe798ec0a",
   "metadata": {
    "kernel": "SoS"
   },
   "outputs": [],
   "source": [
    "lmm_dir_regenie=$lmm_exome_dir_regenie/091421_combined_50K\n",
    "lmm_sbatch_regenie=~/scripts/combined_50K-regenie_$(date +\"%Y-%m-%d\").sbatch\n",
    "phenoFile=$hearing_pheno_path/090321_UKBB_Combined_f2247_f2257_expandedwhite_32878ind_50K.tsv\n",
    "phenoCol=f2247_f2257\n",
    "covarCol=sex\n",
    "qCovarCol=\"age PC1 PC2\"\n",
    "anno_file=$lmm_exome_dir_regenie/090921_combined_f2247_f2257_200K/091321_annotation/*.formatted.csv\n",
    "label_annotate=Gene\n",
    "\n",
    "lmm_args=\"\"\"regenie\n",
    "    --cwd $lmm_dir_regenie \n",
    "    --bfile $bfile \n",
    "    --genoFile $genoFile\n",
    "    --phenoFile $phenoFile \n",
    "    --formatFile $formatFile_regenie \n",
    "    --phenoCol $phenoCol\n",
    "    --covarCol $covarCol  \n",
    "    --qCovarCol $qCovarCol\n",
    "    --bsize $bsize\n",
    "    --lowmem_dir $lowmem_dir\n",
    "    --trait $trait \n",
    "    --maf_filter $maf_filter\n",
    "    --geno_filter $geno_filter\n",
    "    --hwe_filter $hwe_filter\n",
    "    --mind_filter $mind_filter\n",
    "    --minMAC $minMAC\n",
    "    --job_size $lmm_job_size\n",
    "    --ylim $ylim\n",
    "    --reverse_log_p $reverse_log_p\n",
    "    --numThreads $numThreads\n",
    "    --label_annotate $label_annotate\n",
    "    --anno_file $anno_file\n",
    "    --annotate\n",
    "    --container_lmm $container_lmm\n",
    "    --container_marp $container_marp\n",
    "\"\"\"\n",
    "\n",
    "sos run ~/project/UKBB_GWAS_dev/admin/Get_Job_Script.ipynb csg\\\n",
    "    --template-file $tpl_file \\\n",
    "    --workflow-file $lmm_sos \\\n",
    "    --to-script $lmm_sbatch_regenie \\\n",
    "    --args \"$lmm_args\""
   ]
  },
  {
   "cell_type": "markdown",
   "id": "fefa70e4-f091-49e0-858c-86197cf37619",
   "metadata": {
    "kernel": "SoS"
   },
   "source": [
    "# Mega sample"
   ]
  },
  {
   "cell_type": "markdown",
   "id": "c3f73c01-7fd1-4e4a-8f15-d9629dc38249",
   "metadata": {
    "kernel": "SoS"
   },
   "source": [
    "## H-aid"
   ]
  },
  {
   "cell_type": "code",
   "execution_count": null,
   "id": "fce0e622-898d-4f59-97fb-672d1a09e936",
   "metadata": {
    "kernel": "SoS"
   },
   "outputs": [],
   "source": [
    "lmm_dir_regenie=$lmm_exome_dir_regenie/090921_f3393_hearing_aid_200K\n",
    "lmm_sbatch_regenie=~/scripts/f3393_hearing_aid_200K-regenie_$(date +\"%Y-%m-%d\").sbatch\n",
    "phenoFile=$hearing_pheno_path/090321_UKBB_Hearing_aid_f3393_expandedwhite_6436cases_96601ctrl_PC1_2.tsv\n",
    "phenoCol=f3393\n",
    "covarCol=sex\n",
    "qCovarCol=\"age PC1 PC2\"\n",
    "anno_file=$lmm_exome_dir_regenie/090921_f3393_hearing_aid_200K/091321_annotation/*.formatted.csv\n",
    "label_annotate=Gene\n",
    "\n",
    "lmm_args=\"\"\"regenie\n",
    "    --cwd $lmm_dir_regenie \n",
    "    --bfile $bfile \n",
    "    --genoFile $genoFile\n",
    "    --phenoFile $phenoFile \n",
    "    --formatFile $formatFile_regenie \n",
    "    --phenoCol $phenoCol\n",
    "    --covarCol $covarCol  \n",
    "    --qCovarCol $qCovarCol\n",
    "    --bsize $bsize\n",
    "    --lowmem_dir $lowmem_dir\n",
    "    --trait $trait \n",
    "    --maf_filter $maf_filter\n",
    "    --geno_filter $geno_filter\n",
    "    --hwe_filter $hwe_filter\n",
    "    --mind_filter $mind_filter\n",
    "    --minMAC $minMAC\n",
    "    --job_size $lmm_job_size\n",
    "    --ylim $ylim\n",
    "    --reverse_log_p $reverse_log_p\n",
    "    --numThreads $numThreads\n",
    "    --anno_file $anno_file\n",
    "    --label_annotate $label_annotate\n",
    "    --annotate\n",
    "    --container_lmm $container_lmm\n",
    "    --container_marp $container_marp\n",
    "\"\"\"\n",
    "\n",
    "sos run ~/UKBB_GWAS_dev/admin/Get_Job_Script.ipynb csg\\\n",
    "    --template-file $tpl_file \\\n",
    "    --workflow-file $lmm_sos \\\n",
    "    --to-script $lmm_sbatch_regenie \\\n",
    "    --args \"$lmm_args\" "
   ]
  },
  {
   "cell_type": "markdown",
   "id": "5cafb5c4-367a-436e-859b-c9d1f2fc974d",
   "metadata": {
    "kernel": "SoS"
   },
   "source": [
    "## H-diff"
   ]
  },
  {
   "cell_type": "code",
   "execution_count": null,
   "id": "1b41c15b-cfe1-4b06-b61c-f164d1a9ea92",
   "metadata": {
    "kernel": "SoS"
   },
   "outputs": [],
   "source": [
    "lmm_dir_regenie=$lmm_exome_dir_regenie/090921_f2247_hearing_difficulty_200K\n",
    "lmm_sbatch_regenie=~/scripts/f2247_hearing_difficulty_200K-regenie_$(date +\"%Y-%m-%d\").sbatch\n",
    "phenoFile=$hearing_pheno_path/090321_UKBB_Hearing_difficulty_f2247_expandedwhite_45502cases_96601ctrl_PC1_2.tsv\n",
    "phenoCol=f2247\n",
    "covarCol=sex\n",
    "qCovarCol=\"age PC1 PC2\"\n",
    "anno_file=$lmm_exome_dir_regenie/090921_f2247_hearing_difficulty_200K/091321_annotation/*.formatted.csv\n",
    "label_annotate=Gene\n",
    "\n",
    "lmm_args=\"\"\"regenie\n",
    "    --cwd $lmm_dir_regenie \n",
    "    --bfile $bfile \n",
    "    --genoFile $genoFile\n",
    "    --phenoFile $phenoFile \n",
    "    --formatFile $formatFile_regenie \n",
    "    --phenoCol $phenoCol\n",
    "    --covarCol $covarCol  \n",
    "    --qCovarCol $qCovarCol\n",
    "    --bsize $bsize\n",
    "    --lowmem_dir $lowmem_dir\n",
    "    --trait $trait \n",
    "    --maf_filter $maf_filter\n",
    "    --geno_filter $geno_filter\n",
    "    --hwe_filter $hwe_filter\n",
    "    --mind_filter $mind_filter\n",
    "    --minMAC $minMAC\n",
    "    --job_size $lmm_job_size\n",
    "    --ylim $ylim\n",
    "    --reverse_log_p $reverse_log_p\n",
    "    --numThreads $numThreads\n",
    "    --anno_file $anno_file\n",
    "    --label_annotate $label_annotate\n",
    "    --annotate\n",
    "    --container_lmm $container_lmm\n",
    "    --container_marp $container_marp\n",
    "\"\"\"\n",
    "\n",
    "sos run ~/project/UKBB_GWAS_dev/admin/Get_Job_Script.ipynb csg\\\n",
    "    --template-file $tpl_file \\\n",
    "    --workflow-file $lmm_sos \\\n",
    "    --to-script $lmm_sbatch_regenie \\\n",
    "    --args \"$lmm_args\""
   ]
  },
  {
   "cell_type": "markdown",
   "id": "f00c6a26-92d4-4774-bc1b-2a4d9ebce95c",
   "metadata": {
    "kernel": "SoS"
   },
   "source": [
    "## H-noise"
   ]
  },
  {
   "cell_type": "code",
   "execution_count": null,
   "id": "85e72f88-c735-4a50-943f-e630b388099e",
   "metadata": {
    "kernel": "SoS"
   },
   "outputs": [],
   "source": [
    "lmm_dir_regenie=$lmm_exome_dir_regenie/090921_f2257_hearing_noise_200K\n",
    "lmm_sbatch_regenie=~/scripts/f2257_hearing_noise_200K-regenie_$(date +\"%Y-%m-%d\").sbatch\n",
    "phenoFile=$hearing_pheno_path/090321_UKBB_Hearing_noise_f2257_expandedwhite_65660cases_96601ctrl_PC1_2.tsv\n",
    "phenoCol=f2257\n",
    "covarCol=sex\n",
    "qCovarCol=\"age PC1 PC2\"\n",
    "anno_file=$lmm_exome_dir_regenie/090921_f2257_hearing_noise_200K/091321_annotation/*.formatted.csv\n",
    "label_annotate=Gene\n",
    "\n",
    "lmm_args=\"\"\"regenie\n",
    "    --cwd $lmm_dir_regenie \n",
    "    --bfile $bfile \n",
    "    --genoFile $genoFile\n",
    "    --phenoFile $phenoFile \n",
    "    --formatFile $formatFile_regenie \n",
    "    --phenoCol $phenoCol\n",
    "    --covarCol $covarCol  \n",
    "    --qCovarCol $qCovarCol\n",
    "    --bsize $bsize\n",
    "    --lowmem_dir $lowmem_dir\n",
    "    --trait $trait \n",
    "    --maf_filter $maf_filter\n",
    "    --geno_filter $geno_filter\n",
    "    --hwe_filter $hwe_filter\n",
    "    --mind_filter $mind_filter\n",
    "    --minMAC $minMAC\n",
    "    --job_size $lmm_job_size\n",
    "    --ylim $ylim\n",
    "    --reverse_log_p $reverse_log_p\n",
    "    --numThreads $numThreads\n",
    "    --anno_file $anno_file\n",
    "    --label_annotate $label_annotate\n",
    "    --annotate\n",
    "    --container_lmm $container_lmm\n",
    "    --container_marp $container_marp\n",
    "\"\"\"\n",
    "\n",
    "sos run ~/project/UKBB_GWAS_dev/admin/Get_Job_Script.ipynb csg\\\n",
    "    --template-file $tpl_file \\\n",
    "    --workflow-file $lmm_sos \\\n",
    "    --to-script $lmm_sbatch_regenie \\\n",
    "    --args \"$lmm_args\""
   ]
  },
  {
   "cell_type": "markdown",
   "id": "8ca60154-30fa-4162-86ab-ab6a556b2098",
   "metadata": {
    "kernel": "SoS"
   },
   "source": [
    "## H-both"
   ]
  },
  {
   "cell_type": "code",
   "execution_count": null,
   "id": "71a090da-6f5d-436d-9c32-31869954d114",
   "metadata": {
    "kernel": "SoS"
   },
   "outputs": [],
   "source": [
    "lmm_dir_regenie=$lmm_exome_dir_regenie/090921_combined_f2247_f2257_200K\n",
    "lmm_sbatch_regenie=~/scripts/combined_f2247_f2257_200K-regenie_$(date +\"%Y-%m-%d\").sbatch\n",
    "phenoFile=$hearing_pheno_path/090321_UKBB_Combined_f2247_f2257_expandedwhite_38410cases_96601ctrl_PC1_2.tsv\n",
    "phenoCol=f2247_f2257\n",
    "covarCol=sex\n",
    "qCovarCol=\"age PC1 PC2\"\n",
    "anno_file=$lmm_exome_dir_regenie/090921_combined_f2247_f2257_200K/091321_annotation/*.formatted.csv\n",
    "label_annotate=Gene\n",
    "\n",
    "lmm_args=\"\"\"regenie\n",
    "    --cwd $lmm_dir_regenie \n",
    "    --bfile $bfile \n",
    "    --genoFile $genoFile\n",
    "    --phenoFile $phenoFile \n",
    "    --formatFile $formatFile_regenie \n",
    "    --phenoCol $phenoCol\n",
    "    --covarCol $covarCol  \n",
    "    --qCovarCol $qCovarCol\n",
    "    --bsize $bsize\n",
    "    --lowmem_dir $lowmem_dir\n",
    "    --trait $trait \n",
    "    --maf_filter $maf_filter\n",
    "    --geno_filter $geno_filter\n",
    "    --hwe_filter $hwe_filter\n",
    "    --mind_filter $mind_filter\n",
    "    --minMAC $minMAC\n",
    "    --job_size $lmm_job_size\n",
    "    --ylim $ylim\n",
    "    --reverse_log_p $reverse_log_p\n",
    "    --numThreads $numThreads\n",
    "    --anno_file $anno_file\n",
    "    --label_annotate $label_annotate\n",
    "    --annotate\n",
    "    --container_lmm $container_lmm\n",
    "    --container_marp $container_marp\n",
    "\"\"\"\n",
    "\n",
    "sos run ~/project/UKBB_GWAS_dev/admin/Get_Job_Script.ipynb csg\\\n",
    "    --template-file $tpl_file \\\n",
    "    --workflow-file $lmm_sos \\\n",
    "    --to-script $lmm_sbatch_regenie \\\n",
    "    --args \"$lmm_args\""
   ]
  },
  {
   "cell_type": "markdown",
   "id": "e0c9cd92-675d-4446-93dc-a0435c45547e",
   "metadata": {
    "kernel": "SoS"
   },
   "source": [
    "# Secondary replication sample"
   ]
  },
  {
   "cell_type": "markdown",
   "id": "5adb625b-d46f-45d1-8ac8-d37e49428ee8",
   "metadata": {
    "kernel": "SoS"
   },
   "source": [
    "## Global variables"
   ]
  },
  {
   "cell_type": "code",
   "execution_count": null,
   "id": "aa819811-52c9-4439-a8c1-50899acb3335",
   "metadata": {
    "kernel": "SoS"
   },
   "outputs": [],
   "source": [
    "lmm_imp_dir_regenie=~/results/REGENIE_results/results_imputed_data\n",
    "hearing_pheno_path=~/phenotype_files/hearing_impairment/fulldb_500K"
   ]
  },
  {
   "cell_type": "markdown",
   "id": "c166631b-6ce9-43a6-9104-951ecb1198fc",
   "metadata": {
    "kernel": "SoS"
   },
   "source": [
    "## LMM parameters for imputed data"
   ]
  },
  {
   "cell_type": "code",
   "execution_count": null,
   "id": "d0703f28-df97-47fa-8abd-7b3eec089db8",
   "metadata": {
    "kernel": "SoS"
   },
   "outputs": [],
   "source": [
    "bsize=1000\n",
    "lowmem_dir=~/tmp/\n",
    "trait=bt\n",
    "bgenMinINFO=0.3\n",
    "minMAC=4\n",
    "# These parameters are set to 0 because the *.bed file has already been quality controlled\n",
    "maf_filter=0\n",
    "geno_filter=0\n",
    "hwe_filter=0\n",
    "mind_filter=0\n",
    "ref_first=True\n",
    "reverse_log_p=True\n",
    "y_lim=0\n",
    "numThreads=20\n",
    "label_annotate=SNP\n",
    "bfile=$UKBB_PATH/genotype_files_processed/090221_sample_variant_qc_final_callrate90/cache/UKB_genotypedatadownloaded083019.090221_sample_variant_qc_final_callrate90.filtered.extracted.bed\n",
    "genoFile=`echo $UKBB_yale/ukb39554_imputeddataset/ukb_imp_chr{1..22}_v3.bgen`\n",
    "sampleFile=$UKBB_yale/ukb39554_imputeddataset/ukb32285_imputedindiv.sample\n",
    "covarCol=sex\n",
    "qCovarCol=\"age PC1 PC2\""
   ]
  },
  {
   "cell_type": "markdown",
   "id": "6d069d81-6b2b-448a-826b-a06e34cb2a7f",
   "metadata": {
    "kernel": "SoS"
   },
   "source": [
    "## H-aid"
   ]
  },
  {
   "cell_type": "code",
   "execution_count": null,
   "id": "7e487b14-11d7-4143-8a55-0e0d642a0a53",
   "metadata": {
    "kernel": "SoS"
   },
   "outputs": [],
   "source": [
    "lmm_dir_regenie=$lmm_imp_dir_regenie/2021_10_13_f3393_300K\n",
    "lmm_sbatch_regenie=$lmm_imp_dir_regenie/2021_10_13_f3393_300K/f3393_300K_imp_info0.3_ref_first_regenie_$(date +\"%Y-%m-%d\").sbatch\n",
    "phenoFile=$hearing_pheno_path/100521_UKBB_Hearing_aid_f3393_expandedwhite_9165cases_141007ctrl_300k_PC1_PC2\n",
    "phenoCol=f3393\n",
    "\n",
    "lmm_args=\"\"\"regenie\n",
    "    --cwd $lmm_dir_regenie \n",
    "    --bfile $bfile \n",
    "    --genoFile $genoFile\n",
    "    --sampleFile $sampleFile\n",
    "    --phenoFile $phenoFile \n",
    "    --formatFile $formatFile_regenie \n",
    "    --phenoCol $phenoCol\n",
    "    --covarCol $covarCol  \n",
    "    --qCovarCol $qCovarCol\n",
    "    --bsize $bsize\n",
    "    --lowmem_dir $lowmem_dir\n",
    "    --trait $trait \n",
    "    --bgenMinINFO $bgenMinINFO\n",
    "    --maf_filter $maf_filter\n",
    "    --geno_filter $geno_filter\n",
    "    --hwe_filter $hwe_filter\n",
    "    --mind_filter $mind_filter\n",
    "    --minMAC $minMAC\n",
    "    --job_size $lmm_job_size\n",
    "    --ylim $ylim\n",
    "    --label_annotate $label_annotate\n",
    "    --no-annotate\n",
    "    --ref_first $ref_first\n",
    "    --reverse_log_p $reverse_log_p\n",
    "    --numThreads $numThreads\n",
    "    --container_lmm $container_lmm\n",
    "    --container_marp $container_marp\n",
    "\"\"\"\n",
    "\n",
    "sos run ~/project/UKBB_GWAS_dev/admin/Get_Job_Script.ipynb csg\\\n",
    "    --template-file $tpl_file \\\n",
    "    --workflow-file $lmm_sos \\\n",
    "    --to-script $lmm_sbatch_regenie \\\n",
    "    --args \"$lmm_args\""
   ]
  },
  {
   "cell_type": "markdown",
   "id": "c6a75c88-6270-4c3a-a009-1032efa11eec",
   "metadata": {
    "kernel": "SoS"
   },
   "source": [
    "## H-diff"
   ]
  },
  {
   "cell_type": "code",
   "execution_count": null,
   "id": "9a2a02f0-e64d-466d-ad1c-af77dbb0a628",
   "metadata": {
    "kernel": "SoS"
   },
   "outputs": [],
   "source": [
    "lmm_dir_regenie=$lmm_imp_dir_regenie/2021_10_13_f2247_300K\n",
    "lmm_sbatch_regenie=$lmm_imp_dir_regenie/2021_10_13_f2247_300K/f2247_300K_imp_info0.3_ref_first_regenie_$(date +\"%Y-%m-%d\").sbatch\n",
    "phenoFile=$hearing_pheno_path/100521_UKBB_Hearing_difficulty_f2247_expandedwhite_64953cases_141007ctrl_300k_PC1_PC2\n",
    "phenoCol=f2247\n",
    "\n",
    "lmm_args=\"\"\"regenie\n",
    "    --cwd $lmm_dir_regenie \n",
    "    --bfile $bfile \n",
    "    --genoFile $genoFile\n",
    "    --sampleFile $sampleFile\n",
    "    --phenoFile $phenoFile \n",
    "    --formatFile $formatFile_regenie \n",
    "    --phenoCol $phenoCol\n",
    "    --covarCol $covarCol  \n",
    "    --qCovarCol $qCovarCol\n",
    "    --bsize $bsize\n",
    "    --lowmem_dir $lowmem_dir\n",
    "    --trait $trait \n",
    "    --bgenMinINFO $bgenMinINFO\n",
    "    --maf_filter $maf_filter\n",
    "    --geno_filter $geno_filter\n",
    "    --hwe_filter $hwe_filter\n",
    "    --mind_filter $mind_filter\n",
    "    --minMAC $minMAC\n",
    "    --job_size $lmm_job_size\n",
    "    --ylim $ylim\n",
    "    --label_annotate $label_annotate\n",
    "    --no-annotate\n",
    "    --ref_first $ref_first\n",
    "    --reverse_log_p $reverse_log_p\n",
    "    --numThreads $numThreads\n",
    "    --container_lmm $container_lmm\n",
    "    --container_marp $container_marp\n",
    "\"\"\"\n",
    "\n",
    "sos run ~/project/UKBB_GWAS_dev/admin/Get_Job_Script.ipynb csg\\\n",
    "    --template-file $tpl_file \\\n",
    "    --workflow-file $lmm_sos \\\n",
    "    --to-script $lmm_sbatch_regenie \\\n",
    "    --args \"$lmm_args\""
   ]
  },
  {
   "cell_type": "markdown",
   "id": "e3f235b3-bba7-4f75-a20b-2e95acd71202",
   "metadata": {
    "kernel": "SoS"
   },
   "source": [
    "## H-noise"
   ]
  },
  {
   "cell_type": "code",
   "execution_count": null,
   "id": "6cbd0e75-1c22-4db3-99f8-f18825dd44ee",
   "metadata": {
    "kernel": "SoS"
   },
   "outputs": [],
   "source": [
    "lmm_dir_regenie=$lmm_imp_dir_regenie/2021_10_13_f2257_300K\n",
    "lmm_sbatch_regenie=$lmm_imp_dir_regenie/2021_10_13_f2257_300K/f2257_300K_imp_info0.3_ref_first_regenie_$(date +\"%Y-%m-%d\").sbatch\n",
    "phenoFile=$hearing_pheno_path/100521_UKBB_Hearing_noise_f2257_expandedwhite_95794cases_141007ctrl_300k_PC1_PC2\n",
    "phenoCol=f2257\n",
    "\n",
    "lmm_args=\"\"\"regenie\n",
    "    --cwd $lmm_dir_regenie \n",
    "    --bfile $bfile \n",
    "    --genoFile $genoFile\n",
    "    --sampleFile $sampleFile\n",
    "    --phenoFile $phenoFile \n",
    "    --formatFile $formatFile_regenie \n",
    "    --phenoCol $phenoCol\n",
    "    --covarCol $covarCol  \n",
    "    --qCovarCol $qCovarCol\n",
    "    --bsize $bsize\n",
    "    --lowmem_dir $lowmem_dir\n",
    "    --trait $trait \n",
    "    --bgenMinINFO $bgenMinINFO\n",
    "    --maf_filter $maf_filter\n",
    "    --geno_filter $geno_filter\n",
    "    --hwe_filter $hwe_filter\n",
    "    --mind_filter $mind_filter\n",
    "    --minMAC $minMAC\n",
    "    --job_size $lmm_job_size\n",
    "    --ylim $ylim\n",
    "    --label_annotate $label_annotate\n",
    "    --no-annotate\n",
    "    --ref_first $ref_first\n",
    "    --reverse_log_p $reverse_log_p\n",
    "    --numThreads $numThreads\n",
    "    --container_lmm $container_lmm\n",
    "    --container_marp $container_marp\n",
    "\"\"\"\n",
    "\n",
    "sos run ~/project/UKBB_GWAS_dev/admin/Get_Job_Script.ipynb csg\\\n",
    "    --template-file $tpl_file \\\n",
    "    --workflow-file $lmm_sos \\\n",
    "    --to-script $lmm_sbatch_regenie \\\n",
    "    --args \"$lmm_args\""
   ]
  },
  {
   "cell_type": "markdown",
   "id": "693808db-bd98-4564-a5e1-6eda45573aa8",
   "metadata": {
    "kernel": "SoS"
   },
   "source": [
    "## H-both"
   ]
  },
  {
   "cell_type": "code",
   "execution_count": null,
   "id": "57c94f7a-e766-4391-ac98-c93929f92cb1",
   "metadata": {
    "kernel": "SoS"
   },
   "outputs": [],
   "source": [
    "lmm_dir_regenie=$lmm_imp_dir_regenie/2021_10_13_f2247_f2257_300K\n",
    "lmm_sbatch_regenie=$lmm_imp_dir_regenie/2021_10_13_f2247_f2257_300K/f2247_f2257_300K_imp_info0.3_ref_first_regenie_$(date +\"%Y-%m-%d\").sbatch\n",
    "phenoFile=$hearing_pheno_path/100521_UKBB_Combined_f2247_f2257_expandedwhite_54853cases_141007ctrl_300k_PC1_PC2\n",
    "phenoCol=f2247_f2257\n",
    "\n",
    "lmm_args=\"\"\"regenie\n",
    "    --cwd $lmm_dir_regenie \n",
    "    --bfile $bfile \n",
    "    --genoFile $genoFile\n",
    "    --sampleFile $sampleFile\n",
    "    --phenoFile $phenoFile \n",
    "    --formatFile $formatFile_regenie \n",
    "    --phenoCol $phenoCol\n",
    "    --covarCol $covarCol  \n",
    "    --qCovarCol $qCovarCol\n",
    "    --bsize $bsize\n",
    "    --lowmem_dir $lowmem_dir\n",
    "    --trait $trait \n",
    "    --bgenMinINFO $bgenMinINFO\n",
    "    --maf_filter $maf_filter\n",
    "    --geno_filter $geno_filter\n",
    "    --hwe_filter $hwe_filter\n",
    "    --mind_filter $mind_filter\n",
    "    --minMAC $minMAC\n",
    "    --job_size $lmm_job_size\n",
    "    --ylim $ylim\n",
    "    --label_annotate $label_annotate\n",
    "    --no-annotate\n",
    "    --ref_first $ref_first\n",
    "    --reverse_log_p $reverse_log_p\n",
    "    --numThreads $numThreads\n",
    "    --container_lmm $container_lmm\n",
    "    --container_marp $container_marp\n",
    "\"\"\"\n",
    "\n",
    "sos run ~/project/UKBB_GWAS_dev/admin/Get_Job_Script.ipynb csg\\\n",
    "    --template-file $tpl_file \\\n",
    "    --workflow-file $lmm_sos \\\n",
    "    --to-script $lmm_sbatch_regenie \\\n",
    "    --args \"$lmm_args\""
   ]
  }
 ],
 "metadata": {
  "kernelspec": {
   "display_name": "SoS",
   "language": "sos",
   "name": "sos"
  },
  "language_info": {
   "codemirror_mode": "sos",
   "file_extension": ".sos",
   "mimetype": "text/x-sos",
   "name": "sos",
   "nbconvert_exporter": "sos_notebook.converter.SoS_Exporter",
   "pygments_lexer": "sos"
  },
  "sos": {
   "kernels": [
    [
     "SoS",
     "sos",
     "",
     ""
    ]
   ],
   "version": "0.22.6"
  },
  "toc-autonumbering": false
 },
 "nbformat": 4,
 "nbformat_minor": 5
}
