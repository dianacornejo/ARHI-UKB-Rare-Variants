{
 "cells": [
  {
   "cell_type": "markdown",
   "id": "0774f1af-f51c-4f7b-869b-a1d937061cee",
   "metadata": {
    "kernel": "SoS",
    "tags": []
   },
   "source": [
    "# Description of the scripts used in the PCA analyses: discovery, replication and mega samples"
   ]
  },
  {
   "cell_type": "markdown",
   "id": "fe80f702-1c50-4b59-bc6b-a09d56a39a4d",
   "metadata": {
    "kernel": "SoS"
   },
   "source": [
    "The aim of this notebook is to describe the paremeters used uring the PCA calculation and outlier removal in the white Caucasian individuals from the UKB that had exome data\n",
    "\n",
    "The notebooks indicated in this analyses such as `GWAS_QC.ipynb,PCA.ipynb` are publicly available [here](https://github.com/cumc/bioworkflows/tree/master/GWAS)"
   ]
  },
  {
   "cell_type": "markdown",
   "id": "c712ced4-32e3-4b55-8251-2bd6bfeecb02",
   "metadata": {
    "kernel": "SoS"
   },
   "source": [
    "# Global variables"
   ]
  },
  {
   "cell_type": "code",
   "execution_count": null,
   "id": "6f5bb5e2-dc82-48d5-b13e-17dd5b521117",
   "metadata": {
    "kernel": "SoS"
   },
   "outputs": [],
   "source": [
    "pca_sos=$USER_PATH/bioworkflows/GWAS/PCA.ipynb\n",
    "gwasqc_sos=$USER_PATH/bioworkflows/GWAS/GWAS_QC.ipynb\n",
    "numThreads=1\n",
    "job_size=1"
   ]
  },
  {
   "cell_type": "markdown",
   "id": "049160e0-0836-49fa-906d-7a4712e4919d",
   "metadata": {
    "kernel": "Bash"
   },
   "source": [
    "## 08-30-21 Run with QC'ed genotype array data"
   ]
  },
  {
   "cell_type": "markdown",
   "id": "e5382e26-eb88-4345-bcaa-18c635d69815",
   "metadata": {
    "kernel": "Bash"
   },
   "source": [
    "## Step 1. Select \"European individuals\" from genotype array data"
   ]
  },
  {
   "cell_type": "code",
   "execution_count": null,
   "id": "c8b5ab7c-25ba-4ad4-b659-1ab083c07e7f",
   "metadata": {
    "kernel": "Bash"
   },
   "outputs": [],
   "source": [
    "#Columbia's cluster\n",
    "cwd=$UKBB_PATH/results/083021_PCA_results/europeans\n",
    "#bfile with sample and variants QC from 083021 containing all of the samples\n",
    "##here I used the bfile in which individuals with call rate >90% were retained\n",
    "genoFile=~/UKBiobank/genotype_files_processed/090221_sample_variant_qc_final_callrate90/cache/UKB_genotypedatadownloaded083019.090221_sample_variant_qc_final_callrate90.filtered.extracted.bed\n",
    "#To keep the samples of white individuals only\n",
    "keep_samples=$UKBB_yale/pleiotropy_R01/ukb43978_OCT2020/dc2325_phenotypes/030821_ukb42495_exomed_white_189010ind\n",
    "#QC is already done, so no need to filter any more\n",
    "maf_filter=0\n",
    "geno_filter=0\n",
    "hwe_filter=0\n",
    "mind_filter=0\n",
    "mem='30G'\n",
    "gwasqc_sbatch=$USER_PATH/UKBB_GWAS_dev/output/select_europeans_qcbed_$(date +\"%Y-%m-%d\").sbatch\n",
    "\n",
    "gwasqc1_args=\"\"\"qc:1\n",
    "    --cwd $cwd\n",
    "    --genoFile $genoFile\n",
    "    --keep_samples $keep_samples\n",
    "    --maf_filter $maf_filter\n",
    "    --geno_filter $geno_filter\n",
    "    --hwe_filter $hwe_filter\n",
    "    --mind_filter $mind_filter\n",
    "    --numThreads $numThreads \n",
    "    --job_size $job_size\n",
    "    --container_lmm $container_lmm\n",
    "    --mem $mem\n",
    "\"\"\"\n",
    "\n",
    "sos run ~/project/UKBB_GWAS_dev/admin/Get_Job_Script.ipynb csg \\\n",
    "    --template-file $tpl_file \\\n",
    "    --workflow-file $gwasqc_sos \\\n",
    "    --to-script $gwasqc_sbatch \\\n",
    "    --args \"$gwasqc1_args\""
   ]
  },
  {
   "cell_type": "markdown",
   "id": "3e13c20e-76b2-4eaf-b41f-fcb79d0d90d3",
   "metadata": {
    "kernel": "Bash"
   },
   "source": [
    "## Step 2 . Run KING"
   ]
  },
  {
   "cell_type": "code",
   "execution_count": null,
   "id": "ce80420d-daf6-4b6d-98e1-1a44b801bbc5",
   "metadata": {
    "kernel": "Bash"
   },
   "outputs": [],
   "source": [
    "cwd=$UKBB_PATH/results/083021_PCA_results/090221_king/\n",
    "genoFile=$UKBB_PATH/results/083021_PCA_results/europeans/cache/UKB_genotypedatadownloaded083019.090221_sample_variant_qc_final_callrate90.filtered.extracted.europeans.filtered.bed\n",
    "king_sbatch=$OUT_PATH/flashpca_king_extendedwhite_$(date +\"%Y-%m-%d\").sbatch\n",
    "kinship=0.0625\n",
    "numThreads=20\n",
    "mem='30G'\n",
    "walltime='36h'\n",
    "\n",
    "king_args=\"\"\"king\n",
    "    --cwd $cwd\n",
    "    --genoFile $genoFile\n",
    "    --kinship $kinship\n",
    "    --numThreads $numThreads \n",
    "    --job_size $job_size\n",
    "    --container_lmm $container_lmm\n",
    "    --mem $mem\n",
    "    --walltime $walltime\n",
    "    --no-maximize-unrelated\n",
    "\"\"\"\n",
    "\n",
    "sos run ~/project/UKBB_GWAS_dev/admin/Get_Job_Script.ipynb csg \\\n",
    "    --template-file $tpl_file \\\n",
    "    --workflow-file $gwasqc_sos \\\n",
    "    --to-script $king_sbatch \\\n",
    "    --args \"$king_args\""
   ]
  },
  {
   "cell_type": "markdown",
   "id": "7b190b53-1b77-4b99-993d-ff8cb6a94d30",
   "metadata": {
    "kernel": "Bash"
   },
   "source": [
    "## Step 3 . Remove related and LD pruning"
   ]
  },
  {
   "cell_type": "code",
   "execution_count": null,
   "id": "9ca709d9-f3ff-46f9-a07f-73634e0fd9cf",
   "metadata": {
    "kernel": "Bash"
   },
   "outputs": [],
   "source": [
    "cwd=$UKBB_PATH/results/083021_PCA_results/090221_ldprun_unrelated\n",
    "## Use the qc version of the genotype array with the already filtered 189010 white individuals\n",
    "genoFile=$UKBB_PATH/results/083021_PCA_results/europeans/cache/*.europeans.filtered.bed\n",
    "#To keep the samples of white individuals only\n",
    "remove_samples=$UKBB_PATH/results/083021_PCA_results/090221_king/*.related_id\n",
    "\n",
    "#GWAS QC variables: leave all the variables in 0 so there's no more filtering in the already filtered data\n",
    "maf_filter=0\n",
    "geno_filter=0\n",
    "hwe_filter=0\n",
    "mind_filter=0\n",
    "#LD prunning variables\n",
    "window=50\n",
    "shift=10\n",
    "r2=0.1\n",
    "gwas_sbatch=$OUT_PATH/gwas_unrelated_european_$(date +\"%Y-%m-%d\").sbatch\n",
    "numThreads=20\n",
    "mem='30G'\n",
    "\n",
    "gwasqc_args=\"\"\"qc\n",
    "    --cwd $cwd\n",
    "    --genoFile $genoFile\n",
    "    --remove_samples $remove_samples\n",
    "    --maf_filter $maf_filter\n",
    "    --geno_filter $geno_filter\n",
    "    --hwe_filter $hwe_filter\n",
    "    --mind_filter $mind_filter\n",
    "    --window $window\n",
    "    --shift $shift\n",
    "    --r2 $r2\n",
    "    --numThreads $numThreads \n",
    "    --job_size $job_size\n",
    "    --container_lmm $container_lmm\n",
    "    --mem $mem\n",
    "\"\"\"\n",
    "\n",
    "sos run ~/project/UKBB_GWAS_dev/admin/Get_Job_Script.ipynb csg\\\n",
    "    --template-file $tpl_file \\\n",
    "    --workflow-file $gwasqc_sos \\\n",
    "    --to-script $gwas_sbatch \\\n",
    "    --args \"$gwasqc_args\""
   ]
  },
  {
   "cell_type": "markdown",
   "id": "28c5d99e-f6e9-4864-85fd-a26bf4fa00e9",
   "metadata": {
    "kernel": "Bash"
   },
   "source": [
    "## Step 4. Get bed file for related"
   ]
  },
  {
   "cell_type": "code",
   "execution_count": null,
   "id": "422dfb43-3b18-47d2-9ece-161275398cae",
   "metadata": {
    "kernel": "Bash"
   },
   "outputs": [],
   "source": [
    "##Columbia's cluster\n",
    "cwd=$UKBB_PATH/results/083021_PCA_results/090221_ldprun_related\n",
    "genoFile=$UKBB_PATH/results/083021_PCA_results/europeans/cache/*.europeans.filtered.bed\n",
    "keep_samples=$UKBB_PATH/results/083021_PCA_results/090221_king/*.related_id\n",
    "keep_variants=$UKBB_PATH/results/083021_PCA_results/090221_ldprun_unrelated/cache/*.090221_ldprun_unrelated.filtered.prune.in\n",
    "\n",
    "#GWAS QC variables\n",
    "maf_filter=0.0\n",
    "geno_filter=0.0\n",
    "hwe_filter=0.0\n",
    "mind_filter=0.0\n",
    "gwas_sbatch=$OUT_PATH/gwas_related_european_$(date +\"%Y-%m-%d\").sbatch\n",
    "numThreads=20\n",
    "mem='30G'\n",
    "\n",
    "gwasqc_args=\"\"\"qc:1\n",
    "    --cwd $cwd\n",
    "    --genoFile $genoFile\n",
    "    --keep_samples $keep_samples\n",
    "    --keep_variants $keep_variants\n",
    "    --maf_filter $maf_filter\n",
    "    --geno_filter $geno_filter\n",
    "    --hwe_filter $hwe_filter\n",
    "    --mind_filter $mind_filter\n",
    "    --numThreads $numThreads \n",
    "    --job_size $job_size\n",
    "    --container_lmm $container_lmm\n",
    "    --mem $mem\n",
    "\"\"\"\n",
    "\n",
    "sos run ~/project/UKBB_GWAS_dev/admin/Get_Job_Script.ipynb csg\\\n",
    "    --template-file $tpl_file \\\n",
    "    --workflow-file $gwasqc_sos \\\n",
    "    --to-script $gwas_sbatch \\\n",
    "    --args \"$gwasqc_args\""
   ]
  },
  {
   "cell_type": "markdown",
   "id": "57dabf53-6546-4dcf-a054-11790ff62cc1",
   "metadata": {
    "kernel": "Bash"
   },
   "source": [
    "## Step 5. Run PCA with unrelated samples"
   ]
  },
  {
   "cell_type": "code",
   "execution_count": null,
   "id": "897b160d-726c-4c0b-8157-3c5cefa7d254",
   "metadata": {
    "kernel": "Bash"
   },
   "outputs": [],
   "source": [
    "cwd=$UKBB_PATH/results/083021_PCA_results/090321_PCA_unrelated\n",
    "#This is the bfile originated after filtering unrelated individuals and pruning\n",
    "genoFile=$UKBB_PATH/results/083021_PCA_results/090221_ldprun_unrelated/cache/*.090221_ldprun_unrelated.filtered.prune.bed\n",
    "phenoFile=$UKBB_yale/pleiotropy_R01/ukb43978_OCT2020/dc2325_phenotypes/030821_ukb42495_exomed_white_189010ind.pheno\n",
    "label_col=ethnicity\n",
    "pop_col=ethnicity\n",
    "pca_sbatch=$OUT_PATH/flashpca_european_unrelated_$(date +\"%Y-%m-%d\").sbatch\n",
    "k=10\n",
    "maha_k=5\n",
    "min_axis=0\n",
    "max_axis=0\n",
    "\n",
    "pca_args=\"\"\"flashpca\n",
    "    --cwd $cwd\n",
    "    --genoFile $genoFile\n",
    "    --phenoFile $phenoFile\n",
    "    --k $k\n",
    "    --maha_k $maha_k\n",
    "    --label_col $label_col\n",
    "    --pop_col $pop_col\n",
    "    --min_axis $min_axis\n",
    "    --max_axis $max_axis\n",
    "    --numThreads $numThreads \n",
    "    --job_size $job_size\n",
    "    --container_lmm $container_lmm\n",
    "\"\"\"\n",
    "\n",
    "sos run ~/project/UKBB_GWAS_dev/admin/Get_Job_Script.ipynb csg \\\n",
    "    --template-file $tpl_file \\\n",
    "    --workflow-file $pca_sos \\\n",
    "    --to-script $pca_sbatch \\\n",
    "    --args \"$pca_args\""
   ]
  },
  {
   "cell_type": "markdown",
   "id": "e151dec0-0131-4a05-8210-8743fa8a69bb",
   "metadata": {
    "kernel": "Bash"
   },
   "source": [
    "## Step 6. Project related samples back\n",
    "\n",
    "https://privefl.github.io/blog/detecting-outlier-samples-in-pca/"
   ]
  },
  {
   "cell_type": "code",
   "execution_count": null,
   "id": "76ed4e9e-5b7c-4125-afe3-695ddf46a24e",
   "metadata": {
    "kernel": "Bash"
   },
   "outputs": [],
   "source": [
    "cwd=$UKBB_PATH/results/083021_PCA_results/090321_PCA_related_pval0.005\n",
    "#This is the bfile originated after filtering related individuals\n",
    "genoFile=$UKBB_PATH/results/083021_PCA_results/090221_ldprun_related/cache/*.filtered.extracted.bed\n",
    "phenoFile=$UKBB_yale/pleiotropy_R01/ukb43978_OCT2020/dc2325_phenotypes/030821_ukb42495_exomed_white_189010ind.pheno\n",
    "# Project using the PCA model for the unrelated individuals\n",
    "pca_model=$UKBB_PATH/results/083021_PCA_results/090321_PCA_unrelated/*.pca.rds\n",
    "pca_sbatch=$OUT_PATH/flashpca_european_related_projected_pval0.005_$(date +\"%Y-%m-%d\").sbatch\n",
    "label_col=ethnicity\n",
    "pop_col=ethnicity\n",
    "k=10\n",
    "maha_k=10\n",
    "prob=0.997\n",
    "#after correcting for multiple comparissons 0.05/10PC's\n",
    "pval=0.005\n",
    "min_axis=0\n",
    "max_axis=0\n",
    "## set the --homogeneous options to consider all the pops like one \n",
    "## For the plot you need to use the *.projected.rds and not the *.projected.mahalanobis.rds\n",
    "#plot_data=$UKBB_PATH/results/070921_pca_genotype_array/white_expanded_06_30_21_genoarray_projected/030821_ukb42495_exomed_white_189010ind.pheno.white_expanded_06_30_21_genoarray_projected.pca.projected.rds\n",
    "#outlier_file=$UKBB_PATH/results/070921_pca_genotype_array/white_expanded_06_30_21_genoarray_projected/030821_ukb42495_exomed_white_189010ind.pheno.white_expanded_06_30_21_genoarray_projected.pca.projected.outliers\n",
    "\n",
    "\n",
    "pca_args=\"\"\"project_samples\n",
    "    --cwd $cwd\n",
    "    --genoFile $genoFile\n",
    "    --phenoFile $phenoFile\n",
    "    --pca_model $pca_model\n",
    "    --k $k\n",
    "    --maha_k $maha_k\n",
    "    --label_col $label_col\n",
    "    --pop_col $pop_col\n",
    "    --prob $prob\n",
    "    --pval $pval\n",
    "    --homogeneous\n",
    "    --min_axis $min_axis\n",
    "    --max_axis $max_axis\n",
    "    --numThreads $numThreads \n",
    "    --job_size $job_size\n",
    "    --container_lmm $container_lmm\n",
    "\"\"\"\n",
    "\n",
    "sos run ~/project/UKBB_GWAS_dev/admin/Get_Job_Script.ipynb csg \\\n",
    "    --template-file $tpl_file \\\n",
    "    --workflow-file $pca_sos \\\n",
    "    --to-script $pca_sbatch \\\n",
    "    --args \"$pca_args\""
   ]
  },
  {
   "cell_type": "markdown",
   "id": "71a8bfc2-bd29-478e-a064-df2b79ace707",
   "metadata": {
    "kernel": "Bash"
   },
   "source": [
    "## Step 7. Plot the projected individuals and highlight outliers"
   ]
  },
  {
   "cell_type": "code",
   "execution_count": null,
   "id": "9de2968d-2356-4880-9e48-7f6fd62c9671",
   "metadata": {
    "kernel": "Bash"
   },
   "outputs": [],
   "source": [
    "cwd=$UKBB_PATH/results/083021_PCA_results/090321_PCA_related_pval0.005\n",
    "#This is the bfile originated after filtering related individuals\n",
    "genoFile=$UKBB_PATH/results/083021_PCA_results/090221_ldprun_related/cache/*.filtered.extracted.bed\n",
    "phenoFile=$UKBB_yale/pleiotropy_R01/ukb43978_OCT2020/dc2325_phenotypes/030821_ukb42495_exomed_white_189010ind.pheno\n",
    "plot_data=$UKBB_PATH/results/083021_PCA_results/090321_PCA_related_pval0.005/*.pca.projected.rds\n",
    "outlier_file=$UKBB_PATH/results/083021_PCA_results/090321_PCA_related_pval0.005/*.outliers\n",
    "label_col=ethnicity\n",
    "pop_col=ethnicity\n",
    "pca_sbatch=$OUT_PATH/plot_european_projected_$(date +\"%Y-%m-%d\").sbatch\n",
    "\n",
    "pca_args=\"\"\"plot_pca\n",
    "    --cwd $cwd\n",
    "    --genoFile $genoFile\n",
    "    --phenoFile $phenoFile\n",
    "    --label_col $label_col\n",
    "    --pop_col $pop_col\n",
    "    --plot_data $plot_data\n",
    "    --outlier_file $outlier_file\n",
    "    --numThreads $numThreads \n",
    "    --job_size $job_size\n",
    "    --container_lmm $container_lmm\n",
    "\"\"\"\n",
    "\n",
    "sos run ~/project/UKBB_GWAS_dev/admin/Get_Job_Script.ipynb csg \\\n",
    "    --template-file $tpl_file \\\n",
    "    --workflow-file $pca_sos \\\n",
    "    --to-script $pca_sbatch \\\n",
    "    --args \"$pca_args\""
   ]
  },
  {
   "cell_type": "markdown",
   "id": "29e6366f-7843-4111-b855-fdc49f0a9311",
   "metadata": {
    "kernel": "Bash"
   },
   "source": [
    "## 09-03-21 Re-run the PCA for every phenotype to obtain PC's for LMM analysis. "
   ]
  },
  {
   "cell_type": "markdown",
   "id": "881684e0-3665-4fba-a122-f4c5f2d00525",
   "metadata": {
    "kernel": "Bash"
   },
   "source": [
    "### Mega sample"
   ]
  },
  {
   "cell_type": "markdown",
   "id": "42392b46-5d96-4439-919b-6263803223ff",
   "metadata": {
    "kernel": "Bash"
   },
   "source": [
    "### H-aid"
   ]
  },
  {
   "cell_type": "markdown",
   "id": "463f8c84-37cc-4350-a6f9-08010e4f73f4",
   "metadata": {
    "kernel": "Bash"
   },
   "source": [
    "#### Step 1."
   ]
  },
  {
   "cell_type": "code",
   "execution_count": null,
   "id": "7d294cc0-2e38-4720-ae1e-e2d21779bf0c",
   "metadata": {
    "kernel": "Bash"
   },
   "outputs": [],
   "source": [
    "cwd=$UKBB_PATH/results/083021_PCA_results/090821_f3393_pca\n",
    "gwas_sbatch=$OUT_PATH/qc1_f3393_qcarray_$(date +\"%Y-%m-%d\").sbatch\n",
    "## Use qc'ed genotype array\n",
    "genoFile=~/UKBiobank/genotype_files_processed/090221_sample_variant_qc_final_callrate90/cache/UKB_genotypedatadownloaded083019.090221_sample_variant_qc_final_callrate90.filtered.extracted.bed\n",
    "keep_samples=$UKBB_PATH/results/083021_PCA_results/090321_UKBB_Hearing_aid_f3393_expandedwhite_6436cases_96601ctrl.keep_id\n",
    "#Keep variants after LD pruning\n",
    "keep_variants=$UKBB_PATH/results/083021_PCA_results/090221_ldprun_unrelated/cache/*.090221_ldprun_unrelated.filtered.prune.in\n",
    "#GWAS QC variables set all of this variables to 0 to avoid doing more filtering\n",
    "maf_filter=0\n",
    "geno_filter=0\n",
    "hwe_filter=0\n",
    "mind_filter=0\n",
    "mem='30G'\n",
    "\n",
    "gwasqc_args=\"\"\"qc:1\n",
    "    --cwd $cwd\n",
    "    --genoFile $genoFile\n",
    "    --keep_samples $keep_samples\n",
    "    --keep_variants $keep_variants\n",
    "    --maf_filter $maf_filter\n",
    "    --geno_filter $geno_filter\n",
    "    --hwe_filter $hwe_filter\n",
    "    --mind_filter $mind_filter\n",
    "    --numThreads $numThreads \n",
    "    --job_size $job_size\n",
    "    --container_lmm $container_lmm\n",
    "    --mem $mem\n",
    "\"\"\"\n",
    "\n",
    "sos run $USER_PATH/UKBB_GWAS_dev/admin/Get_Job_Script.ipynb csg \\\n",
    "    --template-file $tpl_file \\\n",
    "    --workflow-file $gwasqc_sos \\\n",
    "    --to-script $gwas_sbatch \\\n",
    "    --args \"$gwasqc_args\""
   ]
  },
  {
   "cell_type": "markdown",
   "id": "3735d08c-3742-48bc-a05b-326e07edc7f8",
   "metadata": {
    "kernel": "Bash"
   },
   "source": [
    "#### Step 2. "
   ]
  },
  {
   "cell_type": "code",
   "execution_count": null,
   "id": "1c45268c-340c-4815-ad86-628784cf1891",
   "metadata": {
    "kernel": "Bash"
   },
   "outputs": [],
   "source": [
    "cwd=$UKBB_PATH/results/083021_PCA_results/090821_f3393_pca\n",
    "#This is the bfile obtained in step 1\n",
    "genoFile=$UKBB_PATH/results/083021_PCA_results/090821_f3393_pca/cache/*.bed\n",
    "# Format FID, IID, pop\n",
    "phenoFile=$UKBB_PATH/results/083021_PCA_results/090321_UKBB_Hearing_aid_f3393_expandedwhite_6436cases_96601ctrl.phenopca\n",
    "label_col=ethnicity\n",
    "pop_col=ethnicity\n",
    "pca_sbatch=$OUT_PATH/flashpca_f3393_pc_$(date +\"%Y-%m-%d\").sbatch\n",
    "k=2\n",
    "min_axis=0\n",
    "max_axis=0\n",
    "\n",
    "pca_args=\"\"\"flashpca\n",
    "    --cwd $cwd\n",
    "    --genoFile $genoFile\n",
    "    --phenoFile $phenoFile\n",
    "    --k $k\n",
    "    --label_col $label_col\n",
    "    --pop_col $pop_col\n",
    "    --min_axis $min_axis\n",
    "    --max_axis $max_axis\n",
    "    --numThreads $numThreads \n",
    "    --job_size $job_size\n",
    "    --container_lmm $container_lmm\n",
    "\"\"\"\n",
    "\n",
    "sos run  $USER_PATH/UKBB_GWAS_dev/admin/Get_Job_Script.ipynb csg\\\n",
    "    --template-file $tpl_file \\\n",
    "    --workflow-file $pca_sos \\\n",
    "    --to-script $pca_sbatch \\\n",
    "    --args \"$pca_args\""
   ]
  },
  {
   "cell_type": "markdown",
   "id": "496674a5-973a-46aa-878e-449ad32ccb86",
   "metadata": {
    "kernel": "Bash"
   },
   "source": [
    "### H-noise\n",
    "\n",
    "#### Step 1."
   ]
  },
  {
   "cell_type": "code",
   "execution_count": null,
   "id": "d188bf60-2f21-4c5b-9097-61111cc3c23d",
   "metadata": {
    "kernel": "Bash"
   },
   "outputs": [],
   "source": [
    "cwd=$UKBB_PATH/results/083021_PCA_results/090821_f2247_pca\n",
    "gwas_sbatch=$OUT_PATH/qc1_f2247_qcarray_$(date +\"%Y-%m-%d\").sbatch\n",
    "## Use qc'ed genotype array\n",
    "genoFile=~/UKBiobank/genotype_files_processed/090221_sample_variant_qc_final_callrate90/cache/UKB_genotypedatadownloaded083019.090221_sample_variant_qc_final_callrate90.filtered.extracted.bed\n",
    "keep_samples=$UKBB_PATH/results/083021_PCA_results/090321_UKBB_Hearing_difficulty_f2247_expandedwhite_45502cases_96601ctrl.keep_id\n",
    "keep_variants=$UKBB_PATH/results/083021_PCA_results/090221_ldprun_unrelated/cache/*.090221_ldprun_unrelated.filtered.prune.in\n",
    "#GWAS QC variables set all of this variables to 0 to avoid doing more filtering\n",
    "maf_filter=0\n",
    "geno_filter=0\n",
    "hwe_filter=0\n",
    "mind_filter=0\n",
    "mem='30G'\n",
    "\n",
    "gwasqc_args=\"\"\"qc:1\n",
    "    --cwd $cwd\n",
    "    --genoFile $genoFile\n",
    "    --keep_samples $keep_samples\n",
    "    --keep_variants $keep_variants\n",
    "    --maf_filter $maf_filter\n",
    "    --geno_filter $geno_filter\n",
    "    --hwe_filter $hwe_filter\n",
    "    --mind_filter $mind_filter\n",
    "    --numThreads $numThreads \n",
    "    --job_size $job_size\n",
    "    --container_lmm $container_lmm\n",
    "    --mem $mem\n",
    "\"\"\"\n",
    "\n",
    "sos run $USER_PATH/UKBB_GWAS_dev/admin/Get_Job_Script.ipynb csg \\\n",
    "    --template-file $tpl_file \\\n",
    "    --workflow-file $gwasqc_sos \\\n",
    "    --to-script $gwas_sbatch \\\n",
    "    --args \"$gwasqc_args\""
   ]
  },
  {
   "cell_type": "markdown",
   "id": "4e0945ef-a260-473b-8723-76727b00cd8d",
   "metadata": {
    "kernel": "Bash"
   },
   "source": [
    "#### Step 2."
   ]
  },
  {
   "cell_type": "code",
   "execution_count": null,
   "id": "714522d3-d092-47df-8402-ef237aaac397",
   "metadata": {
    "kernel": "Bash"
   },
   "outputs": [],
   "source": [
    "cwd=$UKBB_PATH/results/083021_PCA_results/090821_f2247_pca\n",
    "#This is the bfile obtained in step 1\n",
    "genoFile=$UKBB_PATH/results/083021_PCA_results/090821_f2247_pca/cache/*.bed\n",
    "# Format FID, IID, pop\n",
    "phenoFile=$UKBB_PATH/results/083021_PCA_results/090321_UKBB_Hearing_difficulty_f2247_expandedwhite_45502cases_96601ctrl.phenopca\n",
    "label_col=ethnicity\n",
    "pop_col=ethnicity\n",
    "pca_sbatch=$OUT_PATH/flashpca_f2247_pc_$(date +\"%Y-%m-%d\").sbatch\n",
    "k=2\n",
    "min_axis=0\n",
    "max_axis=0\n",
    "\n",
    "pca_args=\"\"\"flashpca\n",
    "    --cwd $cwd\n",
    "    --genoFile $genoFile\n",
    "    --phenoFile $phenoFile\n",
    "    --k $k\n",
    "    --label_col $label_col\n",
    "    --pop_col $pop_col\n",
    "    --min_axis $min_axis\n",
    "    --max_axis $max_axis\n",
    "    --numThreads $numThreads \n",
    "    --job_size $job_size\n",
    "    --container_lmm $container_lmm\n",
    "\"\"\"\n",
    "\n",
    "sos run  $USER_PATH/UKBB_GWAS_dev/admin/Get_Job_Script.ipynb csg\\\n",
    "    --template-file $tpl_file \\\n",
    "    --workflow-file $pca_sos \\\n",
    "    --to-script $pca_sbatch \\\n",
    "    --args \"$pca_args\""
   ]
  },
  {
   "cell_type": "markdown",
   "id": "811832fc-56fd-483d-a437-14326b5cddec",
   "metadata": {
    "kernel": "Bash"
   },
   "source": [
    "### H-diff\n",
    "\n",
    "#### Step 1."
   ]
  },
  {
   "cell_type": "code",
   "execution_count": null,
   "id": "2a14843d-3748-4920-a495-71bbbec36974",
   "metadata": {
    "kernel": "Bash"
   },
   "outputs": [],
   "source": [
    "cwd=$UKBB_PATH/results/083021_PCA_results/090821_f2257_pca\n",
    "gwas_sbatch=$OUT_PATH/qc1_f2257_qcarray_$(date +\"%Y-%m-%d\").sbatch\n",
    "## Use qc'ed genotype array\n",
    "genoFile=~/UKBiobank/genotype_files_processed/090221_sample_variant_qc_final_callrate90/cache/UKB_genotypedatadownloaded083019.090221_sample_variant_qc_final_callrate90.filtered.extracted.bed\n",
    "keep_samples=$UKBB_PATH/results/083021_PCA_results/090321_UKBB_Hearing_noise_f2257_expandedwhite_65660cases_96601ctrl.keep_id\n",
    "keep_variants=$UKBB_PATH/results/083021_PCA_results/090221_ldprun_unrelated/cache/*.090221_ldprun_unrelated.filtered.prune.in\n",
    "#GWAS QC variables set all of this variables to 0 to avoid doing more filtering\n",
    "maf_filter=0\n",
    "geno_filter=0\n",
    "hwe_filter=0\n",
    "mind_filter=0\n",
    "mem='30G'\n",
    "\n",
    "gwasqc_args=\"\"\"qc:1\n",
    "    --cwd $cwd\n",
    "    --genoFile $genoFile\n",
    "    --keep_samples $keep_samples\n",
    "    --keep_variants $keep_variants\n",
    "    --maf_filter $maf_filter\n",
    "    --geno_filter $geno_filter\n",
    "    --hwe_filter $hwe_filter\n",
    "    --mind_filter $mind_filter\n",
    "    --numThreads $numThreads \n",
    "    --job_size $job_size\n",
    "    --container_lmm $container_lmm\n",
    "    --mem $mem\n",
    "\"\"\"\n",
    "\n",
    "sos run $USER_PATH/UKBB_GWAS_dev/admin/Get_Job_Script.ipynb csg \\\n",
    "    --template-file $tpl_file \\\n",
    "    --workflow-file $gwasqc_sos \\\n",
    "    --to-script $gwas_sbatch \\\n",
    "    --args \"$gwasqc_args\""
   ]
  },
  {
   "cell_type": "markdown",
   "id": "c299492e-4242-4215-abfb-92f66195d820",
   "metadata": {
    "kernel": "Bash"
   },
   "source": [
    "#### Step 2."
   ]
  },
  {
   "cell_type": "code",
   "execution_count": null,
   "id": "72ef2ad6-ba7c-48a9-bbf2-e16c628fefe1",
   "metadata": {
    "kernel": "Bash"
   },
   "outputs": [],
   "source": [
    "cwd=$UKBB_PATH/results/083021_PCA_results/090821_f2257_pca\n",
    "#This is the bfile obtained in step 1\n",
    "genoFile=$UKBB_PATH/results/083021_PCA_results/090821_f2257_pca/cache/*.bed\n",
    "# Format FID, IID, pop\n",
    "phenoFile=$UKBB_PATH/results/083021_PCA_results/090321_UKBB_Hearing_noise_f2257_expandedwhite_65660cases_96601ctrl.phenopca\n",
    "label_col=ethnicity\n",
    "pop_col=ethnicity\n",
    "pca_sbatch=$OUT_PATH/flashpca_f2257_pc_$(date +\"%Y-%m-%d\").sbatch\n",
    "k=2\n",
    "min_axis=0\n",
    "max_axis=0\n",
    "\n",
    "pca_args=\"\"\"flashpca\n",
    "    --cwd $cwd\n",
    "    --genoFile $genoFile\n",
    "    --phenoFile $phenoFile\n",
    "    --k $k\n",
    "    --label_col $label_col\n",
    "    --pop_col $pop_col\n",
    "    --min_axis $min_axis\n",
    "    --max_axis $max_axis\n",
    "    --numThreads $numThreads \n",
    "    --job_size $job_size\n",
    "    --container_lmm $container_lmm\n",
    "\"\"\"\n",
    "\n",
    "sos run  $USER_PATH/UKBB_GWAS_dev/admin/Get_Job_Script.ipynb csg\\\n",
    "    --template-file $tpl_file \\\n",
    "    --workflow-file $pca_sos \\\n",
    "    --to-script $pca_sbatch \\\n",
    "    --args \"$pca_args\""
   ]
  },
  {
   "cell_type": "markdown",
   "id": "5ad71459-67c2-427f-b6fc-4e7a86b42253",
   "metadata": {
    "kernel": "Bash"
   },
   "source": [
    "### H-both\n",
    "\n",
    "#### Step 1."
   ]
  },
  {
   "cell_type": "code",
   "execution_count": null,
   "id": "427ef53b-307e-4531-bd80-3dfcbda2f680",
   "metadata": {
    "kernel": "Bash"
   },
   "outputs": [],
   "source": [
    "cwd=$UKBB_PATH/results/083021_PCA_results/090821_combined_f2247_f2257_pca\n",
    "gwas_sbatch=$OUT_PATH/qc1_combined_qcarray_$(date +\"%Y-%m-%d\").sbatch\n",
    "## Use qc'ed genotype array\n",
    "genoFile=~/UKBiobank/genotype_files_processed/090221_sample_variant_qc_final_callrate90/cache/UKB_genotypedatadownloaded083019.090221_sample_variant_qc_final_callrate90.filtered.extracted.bed\n",
    "keep_samples=$UKBB_PATH/results/083021_PCA_results/090321_UKBB_Combined_f2247_f2257_expandedwhite_38410cases_96601ctrl.keep_id\n",
    "keep_variants=$UKBB_PATH/results/083021_PCA_results/090221_ldprun_unrelated/cache/*.090221_ldprun_unrelated.filtered.prune.in\n",
    "#GWAS QC variables set all of this variables to 0 to avoid doing more filtering\n",
    "maf_filter=0\n",
    "geno_filter=0\n",
    "hwe_filter=0\n",
    "mind_filter=0\n",
    "mem='30G'\n",
    "\n",
    "gwasqc_args=\"\"\"qc:1\n",
    "    --cwd $cwd\n",
    "    --genoFile $genoFile\n",
    "    --keep_samples $keep_samples\n",
    "    --keep_variants $keep_variants\n",
    "    --maf_filter $maf_filter\n",
    "    --geno_filter $geno_filter\n",
    "    --hwe_filter $hwe_filter\n",
    "    --mind_filter $mind_filter\n",
    "    --numThreads $numThreads \n",
    "    --job_size $job_size\n",
    "    --container_lmm $container_lmm\n",
    "    --mem $mem\n",
    "\"\"\"\n",
    "\n",
    "sos run $USER_PATH/UKBB_GWAS_dev/admin/Get_Job_Script.ipynb csg \\\n",
    "    --template-file $tpl_file \\\n",
    "    --workflow-file $gwasqc_sos \\\n",
    "    --to-script $gwas_sbatch \\\n",
    "    --args \"$gwasqc_args\""
   ]
  },
  {
   "cell_type": "markdown",
   "id": "ec6a41e7-d9c6-4284-b477-c88dcf5da76c",
   "metadata": {
    "kernel": "Bash"
   },
   "source": [
    "#### Step 2."
   ]
  },
  {
   "cell_type": "code",
   "execution_count": null,
   "id": "819b9ccd-7462-48b9-a3ce-192733bd5b58",
   "metadata": {
    "kernel": "Bash"
   },
   "outputs": [],
   "source": [
    "cwd=$UKBB_PATH/results/083021_PCA_results/090821_combined_f2247_f2257_pca\n",
    "#This is the bfile obtained in step 1\n",
    "genoFile=$UKBB_PATH/results/083021_PCA_results/090821_combined_f2247_f2257_pca/cache/*.bed\n",
    "# Format FID, IID, pop\n",
    "phenoFile=$UKBB_PATH/results/083021_PCA_results/090321_UKBB_Combined_f2247_f2257_expandedwhite_38410cases_96601ctrl.phenopca\n",
    "label_col=ethnicity\n",
    "pop_col=ethnicity\n",
    "pca_sbatch=$OUT_PATH/flashpca_combined_pc_$(date +\"%Y-%m-%d\").sbatch\n",
    "k=2\n",
    "min_axis=0\n",
    "max_axis=0\n",
    "\n",
    "pca_args=\"\"\"flashpca\n",
    "    --cwd $cwd\n",
    "    --genoFile $genoFile\n",
    "    --phenoFile $phenoFile\n",
    "    --k $k\n",
    "    --label_col $label_col\n",
    "    --pop_col $pop_col\n",
    "    --min_axis $min_axis\n",
    "    --max_axis $max_axis\n",
    "    --numThreads $numThreads \n",
    "    --job_size $job_size\n",
    "    --container_lmm $container_lmm\n",
    "\"\"\"\n",
    "\n",
    "sos run  $USER_PATH/UKBB_GWAS_dev/admin/Get_Job_Script.ipynb csg\\\n",
    "    --template-file $tpl_file \\\n",
    "    --workflow-file $pca_sos \\\n",
    "    --to-script $pca_sbatch \\\n",
    "    --args \"$pca_args\""
   ]
  },
  {
   "cell_type": "markdown",
   "id": "2bf49dcc-22e6-429d-aad1-8ab072673324",
   "metadata": {
    "kernel": "Bash"
   },
   "source": [
    "## 09-14-21 Get PCA for every phenotype for the discovery and the replication samples to obtain PC's for LMM analysis. "
   ]
  },
  {
   "cell_type": "markdown",
   "id": "0f82fb6d-4b80-48ea-856c-85a6a48df85d",
   "metadata": {
    "kernel": "Bash"
   },
   "source": [
    "### H-aid Replication"
   ]
  },
  {
   "cell_type": "markdown",
   "id": "a89612a2-3636-4ae2-87d2-e40de55cf35a",
   "metadata": {
    "kernel": "Bash"
   },
   "source": [
    "#### Step 1."
   ]
  },
  {
   "cell_type": "code",
   "execution_count": null,
   "id": "6410925d-a88f-4fe7-953e-1c665935e9bf",
   "metadata": {
    "kernel": "Bash"
   },
   "outputs": [],
   "source": [
    "cwd=$UKBB_PATH/results/083021_PCA_results/091421_f3393_50Kexomes_pca\n",
    "gwas_sbatch=$OUT_PATH/qc1_f3393_qcarray_50K_$(date +\"%Y-%m-%d\").sbatch\n",
    "## Use qc'ed genotype array\n",
    "genoFile=~/UKBiobank/genotype_files_processed/090221_sample_variant_qc_final_callrate90/cache/UKB_genotypedatadownloaded083019.090221_sample_variant_qc_final_callrate90.filtered.extracted.bed\n",
    "keep_samples=$UKBB_PATH/results/083021_PCA_results/090321_UKBB_Hearing_aid_f3393_expandedwhite_24189ind_50Kexomes.keep_id\n",
    "#Keep variants after LD pruning\n",
    "keep_variants=$UKBB_PATH/results/083021_PCA_results/090221_ldprun_unrelated/cache/*.090221_ldprun_unrelated.filtered.prune.in\n",
    "#GWAS QC variables set all of this variables to 0 to avoid doing more filtering\n",
    "maf_filter=0\n",
    "geno_filter=0\n",
    "hwe_filter=0\n",
    "mind_filter=0\n",
    "mem='30G'\n",
    "\n",
    "gwasqc_args=\"\"\"qc:1\n",
    "    --cwd $cwd\n",
    "    --genoFile $genoFile\n",
    "    --keep_samples $keep_samples\n",
    "    --keep_variants $keep_variants\n",
    "    --maf_filter $maf_filter\n",
    "    --geno_filter $geno_filter\n",
    "    --hwe_filter $hwe_filter\n",
    "    --mind_filter $mind_filter\n",
    "    --numThreads $numThreads \n",
    "    --job_size $job_size\n",
    "    --container_lmm $container_lmm\n",
    "    --mem $mem\n",
    "\"\"\"\n",
    "\n",
    "sos run ~/project/UKBB_GWAS_dev/admin/Get_Job_Script.ipynb csg \\\n",
    "    --template-file $tpl_file \\\n",
    "    --workflow-file $gwasqc_sos \\\n",
    "    --to-script $gwas_sbatch \\\n",
    "    --args \"$gwasqc_args\""
   ]
  },
  {
   "cell_type": "markdown",
   "id": "7e64eaa5-8f7e-46f2-afee-d46c8fdb7eb3",
   "metadata": {
    "kernel": "Bash"
   },
   "source": [
    "#### Step 2"
   ]
  },
  {
   "cell_type": "code",
   "execution_count": null,
   "id": "cc4638f4-7bdc-4915-99d3-cc887de2e804",
   "metadata": {
    "kernel": "Bash"
   },
   "outputs": [],
   "source": [
    "cwd=$UKBB_PATH/results/083021_PCA_results/091421_f3393_50Kexomes_pca\n",
    "#This is the bfile obtained in step 1\n",
    "genoFile=$UKBB_PATH/results/083021_PCA_results/091421_f3393_50Kexomes_pca/cache/*.bed\n",
    "# Format FID, IID, ethnicity\n",
    "phenoFile=$UKBB_PATH/results/083021_PCA_results/090321_UKBB_Hearing_aid_f3393_expandedwhite_24189_50K.phenopca\n",
    "label_col=ethnicity\n",
    "pop_col=ethnicity\n",
    "pca_sbatch=$OUT_PATH/flashpca_f3393_pc_50K_$(date +\"%Y-%m-%d\").sbatch\n",
    "k=2\n",
    "min_axis=0\n",
    "max_axis=0\n",
    "\n",
    "pca_args=\"\"\"flashpca\n",
    "    --cwd $cwd\n",
    "    --genoFile $genoFile\n",
    "    --phenoFile $phenoFile\n",
    "    --k $k\n",
    "    --label_col $label_col\n",
    "    --pop_col $pop_col\n",
    "    --min_axis $min_axis\n",
    "    --max_axis $max_axis\n",
    "    --numThreads $numThreads \n",
    "    --job_size $job_size\n",
    "    --container_lmm $container_lmm\n",
    "\"\"\"\n",
    "\n",
    "sos run  $USER_PATH/UKBB_GWAS_dev/admin/Get_Job_Script.ipynb csg\\\n",
    "    --template-file $tpl_file \\\n",
    "    --workflow-file $pca_sos \\\n",
    "    --to-script $pca_sbatch \\\n",
    "    --args \"$pca_args\""
   ]
  },
  {
   "cell_type": "markdown",
   "id": "3f227335-e290-486c-b6e3-cd06f0820a8b",
   "metadata": {
    "kernel": "Bash"
   },
   "source": [
    "### H-aid Discovery"
   ]
  },
  {
   "cell_type": "markdown",
   "id": "6243a494-16c0-4e40-876e-e192f8d76137",
   "metadata": {
    "kernel": "Bash"
   },
   "source": [
    "#### Step 1"
   ]
  },
  {
   "cell_type": "code",
   "execution_count": null,
   "id": "6759b135-a3b7-4eee-8193-6dd7e6cd4dd4",
   "metadata": {
    "kernel": "Bash"
   },
   "outputs": [],
   "source": [
    "cwd=$UKBB_PATH/results/083021_PCA_results/091421_f3393_150Kexomes_pca\n",
    "gwas_sbatch=$OUT_PATH/qc1_f3393_qcarray_150K_$(date +\"%Y-%m-%d\").sbatch\n",
    "## Use qc'ed genotype array\n",
    "genoFile=~/UKBiobank/genotype_files_processed/090221_sample_variant_qc_final_callrate90/cache/UKB_genotypedatadownloaded083019.090221_sample_variant_qc_final_callrate90.filtered.extracted.bed\n",
    "keep_samples=$UKBB_PATH/results/083021_PCA_results/090321_UKBB_Hearing_aid_f3393_expandedwhite_78848ind_150Kexomes.keep_id\n",
    "#Keep variants after LD pruning\n",
    "keep_variants=$UKBB_PATH/results/083021_PCA_results/090221_ldprun_unrelated/cache/*.090221_ldprun_unrelated.filtered.prune.in\n",
    "#GWAS QC variables set all of this variables to 0 to avoid doing more filtering\n",
    "maf_filter=0\n",
    "geno_filter=0\n",
    "hwe_filter=0\n",
    "mind_filter=0\n",
    "mem='30G'\n",
    "\n",
    "gwasqc_args=\"\"\"qc:1\n",
    "    --cwd $cwd\n",
    "    --genoFile $genoFile\n",
    "    --keep_samples $keep_samples\n",
    "    --keep_variants $keep_variants\n",
    "    --maf_filter $maf_filter\n",
    "    --geno_filter $geno_filter\n",
    "    --hwe_filter $hwe_filter\n",
    "    --mind_filter $mind_filter\n",
    "    --numThreads $numThreads \n",
    "    --job_size $job_size\n",
    "    --container_lmm $container_lmm\n",
    "    --mem $mem\n",
    "\"\"\"\n",
    "\n",
    "sos run ~/project/UKBB_GWAS_dev/admin/Get_Job_Script.ipynb csg \\\n",
    "    --template-file $tpl_file \\\n",
    "    --workflow-file $gwasqc_sos \\\n",
    "    --to-script $gwas_sbatch \\\n",
    "    --args \"$gwasqc_args\""
   ]
  },
  {
   "cell_type": "markdown",
   "id": "75df6838-27e8-46d2-bd91-48cc142589d1",
   "metadata": {
    "kernel": "Bash"
   },
   "source": [
    "#### Step 2"
   ]
  },
  {
   "cell_type": "code",
   "execution_count": null,
   "id": "a577daab-9f5a-4127-8e62-21cc45458f70",
   "metadata": {
    "kernel": "Bash"
   },
   "outputs": [],
   "source": [
    "cwd=$UKBB_PATH/results/083021_PCA_results/091421_f3393_150Kexomes_pca\n",
    "#This is the bfile obtained in step 1\n",
    "genoFile=$UKBB_PATH/results/083021_PCA_results/091421_f3393_150Kexomes_pca/cache/*.bed\n",
    "# Format FID, IID, ethnicity\n",
    "phenoFile=$UKBB_PATH/results/083021_PCA_results/090321_UKBB_Hearing_aid_f3393_expandedwhite_78848_150K.phenopca\n",
    "label_col=ethnicity\n",
    "pop_col=ethnicity\n",
    "pca_sbatch=$OUT_PATH/flashpca_f3393_pc_150K_$(date +\"%Y-%m-%d\").sbatch\n",
    "k=2\n",
    "min_axis=0\n",
    "max_axis=0\n",
    "\n",
    "pca_args=\"\"\"flashpca\n",
    "    --cwd $cwd\n",
    "    --genoFile $genoFile\n",
    "    --phenoFile $phenoFile\n",
    "    --k $k\n",
    "    --label_col $label_col\n",
    "    --pop_col $pop_col\n",
    "    --min_axis $min_axis\n",
    "    --max_axis $max_axis\n",
    "    --numThreads $numThreads \n",
    "    --job_size $job_size\n",
    "    --container_lmm $container_lmm\n",
    "\"\"\"\n",
    "\n",
    "sos run  $USER_PATH/UKBB_GWAS_dev/admin/Get_Job_Script.ipynb csg\\\n",
    "    --template-file $tpl_file \\\n",
    "    --workflow-file $pca_sos \\\n",
    "    --to-script $pca_sbatch \\\n",
    "    --args \"$pca_args\""
   ]
  },
  {
   "cell_type": "markdown",
   "id": "8ea18765-5495-49f4-8c72-fca4ad19bc22",
   "metadata": {
    "kernel": "Bash"
   },
   "source": [
    "## H-diff Replication"
   ]
  },
  {
   "cell_type": "markdown",
   "id": "dd17f1f9-c2da-44a3-8215-a3170936f990",
   "metadata": {
    "kernel": "Bash"
   },
   "source": [
    "#### Step 1"
   ]
  },
  {
   "cell_type": "code",
   "execution_count": null,
   "id": "f6bcdb96-fd7b-4764-bfe6-ce61a0caeaa2",
   "metadata": {
    "kernel": "Bash"
   },
   "outputs": [],
   "source": [
    "cwd=$UKBB_PATH/results/083021_PCA_results/091421_f2247_50Kexomes_pca\n",
    "gwas_sbatch=$OUT_PATH/qc1_f2247_qcarray_50K_$(date +\"%Y-%m-%d\").sbatch\n",
    "## Use qc'ed genotype array\n",
    "genoFile=~/UKBiobank/genotype_files_processed/090221_sample_variant_qc_final_callrate90/cache/UKB_genotypedatadownloaded083019.090221_sample_variant_qc_final_callrate90.filtered.extracted.bed\n",
    "keep_samples=$UKBB_PATH/results/083021_PCA_results/090321_UKBB_Hearing_difficulty_f2247_expandedwhite_34596ind_50Kexomes.keep_id\n",
    "keep_variants=$UKBB_PATH/results/083021_PCA_results/090221_ldprun_unrelated/cache/*.090221_ldprun_unrelated.filtered.prune.in\n",
    "#GWAS QC variables set all of this variables to 0 to avoid doing more filtering\n",
    "maf_filter=0\n",
    "geno_filter=0\n",
    "hwe_filter=0\n",
    "mind_filter=0\n",
    "numThreads=1\n",
    "mem='30G'\n",
    "\n",
    "gwasqc_args=\"\"\"qc:1\n",
    "    --cwd $cwd\n",
    "    --genoFile $genoFile\n",
    "    --keep_samples $keep_samples\n",
    "    --keep_variants $keep_variants\n",
    "    --maf_filter $maf_filter\n",
    "    --geno_filter $geno_filter\n",
    "    --hwe_filter $hwe_filter\n",
    "    --mind_filter $mind_filter\n",
    "    --numThreads $numThreads \n",
    "    --job_size $job_size\n",
    "    --container_lmm $container_lmm\n",
    "    --mem $mem\n",
    "\"\"\"\n",
    "\n",
    "sos run $USER_PATH/UKBB_GWAS_dev/admin/Get_Job_Script.ipynb csg \\\n",
    "    --template-file $tpl_file \\\n",
    "    --workflow-file $gwasqc_sos \\\n",
    "    --to-script $gwas_sbatch \\\n",
    "    --args \"$gwasqc_args\""
   ]
  },
  {
   "cell_type": "markdown",
   "id": "cf5c19f8-b309-4409-8a11-fc9d11913ad8",
   "metadata": {
    "kernel": "Bash"
   },
   "source": [
    "#### Step 2."
   ]
  },
  {
   "cell_type": "code",
   "execution_count": null,
   "id": "baed1de7-4af6-4a2f-aeec-9a5de796c7c4",
   "metadata": {
    "kernel": "Bash"
   },
   "outputs": [],
   "source": [
    "cwd=$UKBB_PATH/results/083021_PCA_results/091421_f2247_50Kexomes_pca\n",
    "#This is the bfile obtained in step 1\n",
    "genoFile=$UKBB_PATH/results/083021_PCA_results/091421_f2247_50Kexomes_pca/cache/*.bed\n",
    "# Format FID, IID, ethnicity\n",
    "phenoFile=$UKBB_PATH/results/083021_PCA_results/090321_UKBB_Hearing_difficulty_f2247_expandedwhite_34596ind_50K.phenopca\n",
    "label_col=ethnicity\n",
    "pop_col=ethnicity\n",
    "pca_sbatch=$OUT_PATH/flashpca_f2247_pc_50K_$(date +\"%Y-%m-%d\").sbatch\n",
    "k=2\n",
    "min_axis=0\n",
    "max_axis=0\n",
    "\n",
    "pca_args=\"\"\"flashpca\n",
    "    --cwd $cwd\n",
    "    --genoFile $genoFile\n",
    "    --phenoFile $phenoFile\n",
    "    --k $k\n",
    "    --label_col $label_col\n",
    "    --pop_col $pop_col\n",
    "    --min_axis $min_axis\n",
    "    --max_axis $max_axis\n",
    "    --numThreads $numThreads \n",
    "    --job_size $job_size\n",
    "    --container_lmm $container_lmm\n",
    "\"\"\"\n",
    "\n",
    "sos run  $USER_PATH/UKBB_GWAS_dev/admin/Get_Job_Script.ipynb csg\\\n",
    "    --template-file $tpl_file \\\n",
    "    --workflow-file $pca_sos \\\n",
    "    --to-script $pca_sbatch \\\n",
    "    --args \"$pca_args\""
   ]
  },
  {
   "cell_type": "markdown",
   "id": "678d8224-d296-48b1-a7b1-a691ed182efe",
   "metadata": {
    "kernel": "Bash"
   },
   "source": [
    "## H-diff Discovery"
   ]
  },
  {
   "cell_type": "markdown",
   "id": "a28b122c-b8cc-4592-b970-0434f0eafea6",
   "metadata": {
    "kernel": "Bash"
   },
   "source": [
    "#### Step 1. "
   ]
  },
  {
   "cell_type": "code",
   "execution_count": null,
   "id": "2e774560-7fae-4373-afd2-8a6ec9452483",
   "metadata": {
    "kernel": "Bash"
   },
   "outputs": [],
   "source": [
    "cwd=$UKBB_PATH/results/083021_PCA_results/091421_f2247_150Kexomes_pca\n",
    "gwas_sbatch=$OUT_PATH/qc1_f2247_qcarray_150K_$(date +\"%Y-%m-%d\").sbatch\n",
    "## Use qc'ed genotype array\n",
    "genoFile=~/UKBiobank/genotype_files_processed/090221_sample_variant_qc_final_callrate90/cache/UKB_genotypedatadownloaded083019.090221_sample_variant_qc_final_callrate90.filtered.extracted.bed\n",
    "keep_samples=$UKBB_PATH/results/083021_PCA_results/090321_UKBB_Hearing_difficulty_f2247_expandedwhite_107507ind_150Kexomes.keep_id\n",
    "keep_variants=$UKBB_PATH/results/083021_PCA_results/090221_ldprun_unrelated/cache/*.090221_ldprun_unrelated.filtered.prune.in\n",
    "#GWAS QC variables set all of this variables to 0 to avoid doing more filtering\n",
    "maf_filter=0\n",
    "geno_filter=0\n",
    "hwe_filter=0\n",
    "mind_filter=0\n",
    "mem='30G'\n",
    "\n",
    "gwasqc_args=\"\"\"qc:1\n",
    "    --cwd $cwd\n",
    "    --genoFile $genoFile\n",
    "    --keep_samples $keep_samples\n",
    "    --keep_variants $keep_variants\n",
    "    --maf_filter $maf_filter\n",
    "    --geno_filter $geno_filter\n",
    "    --hwe_filter $hwe_filter\n",
    "    --mind_filter $mind_filter\n",
    "    --numThreads $numThreads \n",
    "    --job_size $job_size\n",
    "    --container_lmm $container_lmm\n",
    "    --mem $mem\n",
    "\"\"\"\n",
    "\n",
    "sos run $USER_PATH/UKBB_GWAS_dev/admin/Get_Job_Script.ipynb csg \\\n",
    "    --template-file $tpl_file \\\n",
    "    --workflow-file $gwasqc_sos \\\n",
    "    --to-script $gwas_sbatch \\\n",
    "    --args \"$gwasqc_args\""
   ]
  },
  {
   "cell_type": "markdown",
   "id": "f00fa748-5164-444e-9f63-c64c9912b731",
   "metadata": {
    "kernel": "Bash"
   },
   "source": [
    "#### Step 2."
   ]
  },
  {
   "cell_type": "code",
   "execution_count": null,
   "id": "d29a0221-af94-4b67-9968-088789db934b",
   "metadata": {
    "kernel": "Bash"
   },
   "outputs": [],
   "source": [
    "cwd=$UKBB_PATH/results/083021_PCA_results/091421_f2247_150Kexomes_pca\n",
    "#This is the bfile obtained in step 1\n",
    "genoFile=$UKBB_PATH/results/083021_PCA_results/091421_f2247_150Kexomes_pca/cache/*.bed\n",
    "# Format FID, IID, ethnicity\n",
    "phenoFile=$UKBB_PATH/results/083021_PCA_results/090321_UKBB_Hearing_difficulty_f2247_expandedwhite_107507ind_150K.phenopca\n",
    "label_col=ethnicity\n",
    "pop_col=ethnicity\n",
    "pca_sbatch=$OUT_PATH/flashpca_f2247_pc_150K_$(date +\"%Y-%m-%d\").sbatch\n",
    "k=2\n",
    "min_axis=0\n",
    "max_axis=0\n",
    "\n",
    "pca_args=\"\"\"flashpca\n",
    "    --cwd $cwd\n",
    "    --genoFile $genoFile\n",
    "    --phenoFile $phenoFile\n",
    "    --k $k\n",
    "    --label_col $label_col\n",
    "    --pop_col $pop_col\n",
    "    --min_axis $min_axis\n",
    "    --max_axis $max_axis\n",
    "    --numThreads $numThreads \n",
    "    --job_size $job_size\n",
    "    --container_lmm $container_lmm\n",
    "\"\"\"\n",
    "\n",
    "sos run  $USER_PATH/UKBB_GWAS_dev/admin/Get_Job_Script.ipynb csg\\\n",
    "    --template-file $tpl_file \\\n",
    "    --workflow-file $pca_sos \\\n",
    "    --to-script $pca_sbatch \\\n",
    "    --args \"$pca_args\""
   ]
  },
  {
   "cell_type": "markdown",
   "id": "97bb5724-8bc5-42c9-be43-b861207f69f8",
   "metadata": {
    "kernel": "Bash"
   },
   "source": [
    "## H-noise Replication\n",
    "\n",
    "#### Step 1"
   ]
  },
  {
   "cell_type": "code",
   "execution_count": null,
   "id": "42648887-1afa-4e26-9e38-ca18d1c059e8",
   "metadata": {
    "kernel": "Bash"
   },
   "outputs": [],
   "source": [
    "cwd=$UKBB_PATH/results/083021_PCA_results/091421_f2257_50Kexomes_pca\n",
    "gwas_sbatch=$OUT_PATH/qc1_f2257_qcarray_50K_$(date +\"%Y-%m-%d\").sbatch\n",
    "## Use qc'ed genotype array\n",
    "genoFile=~/UKBiobank/genotype_files_processed/090221_sample_variant_qc_final_callrate90/cache/UKB_genotypedatadownloaded083019.090221_sample_variant_qc_final_callrate90.filtered.extracted.bed\n",
    "keep_samples=$UKBB_PATH/results/083021_PCA_results/090321_UKBB_Hearing_noise_f2257_expandedwhite_38721ind_50Kexomes.keep_id\n",
    "keep_variants=$UKBB_PATH/results/083021_PCA_results/090221_ldprun_unrelated/cache/*.090221_ldprun_unrelated.filtered.prune.in\n",
    "#GWAS QC variables set all of this variables to 0 to avoid doing more filtering\n",
    "maf_filter=0\n",
    "geno_filter=0\n",
    "hwe_filter=0\n",
    "mind_filter=0\n",
    "mem='30G'\n",
    "\n",
    "gwasqc_args=\"\"\"qc:1\n",
    "    --cwd $cwd\n",
    "    --genoFile $genoFile\n",
    "    --keep_samples $keep_samples\n",
    "    --keep_variants $keep_variants\n",
    "    --maf_filter $maf_filter\n",
    "    --geno_filter $geno_filter\n",
    "    --hwe_filter $hwe_filter\n",
    "    --mind_filter $mind_filter\n",
    "    --numThreads $numThreads \n",
    "    --job_size $job_size\n",
    "    --container_lmm $container_lmm\n",
    "    --mem $mem\n",
    "\"\"\"\n",
    "\n",
    "sos run $USER_PATH/UKBB_GWAS_dev/admin/Get_Job_Script.ipynb csg \\\n",
    "    --template-file $tpl_file \\\n",
    "    --workflow-file $gwasqc_sos \\\n",
    "    --to-script $gwas_sbatch \\\n",
    "    --args \"$gwasqc_args\""
   ]
  },
  {
   "cell_type": "markdown",
   "id": "5e44d87e-0c41-48f8-8a21-1ce4f8cfb588",
   "metadata": {
    "kernel": "Bash"
   },
   "source": [
    "#### Step 2"
   ]
  },
  {
   "cell_type": "code",
   "execution_count": null,
   "id": "07253742-a7c8-40bb-848b-2bdd4e7566a9",
   "metadata": {
    "kernel": "Bash"
   },
   "outputs": [],
   "source": [
    "cwd=$UKBB_PATH/results/083021_PCA_results/091421_f2257_50Kexomes_pca\n",
    "#This is the bfile obtained in step 1\n",
    "genoFile=$UKBB_PATH/results/083021_PCA_results/091421_f2257_50Kexomes_pca/cache/*.bed\n",
    "# Format FID, IID, ethnicity\n",
    "phenoFile=$UKBB_PATH/results/083021_PCA_results/090321_UKBB_Hearing_noise_f2257_expandedwhite_38723ind_50K.phenopca\n",
    "label_col=ethnicity\n",
    "pop_col=ethnicity\n",
    "pca_sbatch=$OUT_PATH/flashpca_f2257_pc_50K_$(date +\"%Y-%m-%d\").sbatch\n",
    "k=2\n",
    "min_axis=0\n",
    "max_axis=0\n",
    "\n",
    "pca_args=\"\"\"flashpca\n",
    "    --cwd $cwd\n",
    "    --genoFile $genoFile\n",
    "    --phenoFile $phenoFile\n",
    "    --k $k\n",
    "    --label_col $label_col\n",
    "    --pop_col $pop_col\n",
    "    --min_axis $min_axis\n",
    "    --max_axis $max_axis\n",
    "    --numThreads $numThreads \n",
    "    --job_size $job_size\n",
    "    --container_lmm $container_lmm\n",
    "\"\"\"\n",
    "\n",
    "sos run  $USER_PATH/UKBB_GWAS_dev/admin/Get_Job_Script.ipynb csg\\\n",
    "    --template-file $tpl_file \\\n",
    "    --workflow-file $pca_sos \\\n",
    "    --to-script $pca_sbatch \\\n",
    "    --args \"$pca_args\""
   ]
  },
  {
   "cell_type": "markdown",
   "id": "54f524b7-5a50-4cce-a896-75f62ba120da",
   "metadata": {
    "kernel": "Bash"
   },
   "source": [
    "## H-diff Discovery\n",
    "\n",
    "#### Step 1."
   ]
  },
  {
   "cell_type": "code",
   "execution_count": null,
   "id": "411d8d3c-2b1a-416d-9f29-26ba74c13755",
   "metadata": {
    "kernel": "Bash"
   },
   "outputs": [],
   "source": [
    "cwd=$UKBB_PATH/results/083021_PCA_results/091421_f2257_150Kexomes_pca\n",
    "gwas_sbatch=$OUT_PATH/qc1_f2257_qcarray_150K_$(date +\"%Y-%m-%d\").sbatch\n",
    "## Use qc'ed genotype array\n",
    "genoFile=~/UKBiobank/genotype_files_processed/090221_sample_variant_qc_final_callrate90/cache/UKB_genotypedatadownloaded083019.090221_sample_variant_qc_final_callrate90.filtered.extracted.bed\n",
    "keep_samples=$UKBB_PATH/results/083021_PCA_results/090321_UKBB_Hearing_noise_f2257_expandedwhite_123538ind_150Kexomes.keep_id\n",
    "keep_variants=$UKBB_PATH/results/083021_PCA_results/090221_ldprun_unrelated/cache/*.090221_ldprun_unrelated.filtered.prune.in\n",
    "#GWAS QC variables set all of this variables to 0 to avoid doing more filtering\n",
    "maf_filter=0\n",
    "geno_filter=0\n",
    "hwe_filter=0\n",
    "mind_filter=0\n",
    "numThreads=1\n",
    "mem='30G'\n",
    "\n",
    "gwasqc_args=\"\"\"qc:1\n",
    "    --cwd $cwd\n",
    "    --genoFile $genoFile\n",
    "    --keep_samples $keep_samples\n",
    "    --keep_variants $keep_variants\n",
    "    --maf_filter $maf_filter\n",
    "    --geno_filter $geno_filter\n",
    "    --hwe_filter $hwe_filter\n",
    "    --mind_filter $mind_filter\n",
    "    --numThreads $numThreads \n",
    "    --job_size $job_size\n",
    "    --container_lmm $container_lmm\n",
    "    --mem $mem\n",
    "\"\"\"\n",
    "\n",
    "sos run $USER_PATH/UKBB_GWAS_dev/admin/Get_Job_Script.ipynb csg \\\n",
    "    --template-file $tpl_file \\\n",
    "    --workflow-file $gwasqc_sos \\\n",
    "    --to-script $gwas_sbatch \\\n",
    "    --args \"$gwasqc_args\""
   ]
  },
  {
   "cell_type": "markdown",
   "id": "1fc2c980-395c-4117-bfb6-2fe808def3cc",
   "metadata": {
    "kernel": "Bash"
   },
   "source": [
    "#### Step 2. "
   ]
  },
  {
   "cell_type": "code",
   "execution_count": null,
   "id": "7c860295-2fdd-4af6-a59a-64d4c55b5ab9",
   "metadata": {
    "kernel": "Bash"
   },
   "outputs": [],
   "source": [
    "cwd=$UKBB_PATH/results/083021_PCA_results/091421_f2257_150Kexomes_pca\n",
    "#This is the bfile obtained in step 1\n",
    "genoFile=$UKBB_PATH/results/083021_PCA_results/091421_f2257_150Kexomes_pca/cache/*.bed\n",
    "# Format FID, IID, ethnicity\n",
    "phenoFile=$UKBB_PATH/results/083021_PCA_results/090321_UKBB_Hearing_noise_f2257_expandedwhite_123538ind_150K.phenopca\n",
    "label_col=ethnicity\n",
    "pop_col=ethnicity\n",
    "pca_sbatch=$OUT_PATH/flashpca_f2257_pc_150K_$(date +\"%Y-%m-%d\").sbatch\n",
    "k=2\n",
    "min_axis=0\n",
    "max_axis=0\n",
    "\n",
    "pca_args=\"\"\"flashpca\n",
    "    --cwd $cwd\n",
    "    --genoFile $genoFile\n",
    "    --phenoFile $phenoFile\n",
    "    --k $k\n",
    "    --label_col $label_col\n",
    "    --pop_col $pop_col\n",
    "    --min_axis $min_axis\n",
    "    --max_axis $max_axis\n",
    "    --numThreads $numThreads \n",
    "    --job_size $job_size\n",
    "    --container_lmm $container_lmm\n",
    "\"\"\"\n",
    "\n",
    "sos run  $USER_PATH/UKBB_GWAS_dev/admin/Get_Job_Script.ipynb csg\\\n",
    "    --template-file $tpl_file \\\n",
    "    --workflow-file $pca_sos \\\n",
    "    --to-script $pca_sbatch \\\n",
    "    --args \"$pca_args\""
   ]
  },
  {
   "cell_type": "markdown",
   "id": "dd829ef2-d190-411a-99a2-c4015710efc3",
   "metadata": {
    "kernel": "Bash"
   },
   "source": [
    "## H-both Replication\n",
    "\n",
    "#### Step 1"
   ]
  },
  {
   "cell_type": "code",
   "execution_count": null,
   "id": "e400e72a-66a0-468d-a713-49703b94a289",
   "metadata": {
    "kernel": "Bash"
   },
   "outputs": [],
   "source": [
    "cwd=$UKBB_PATH/results/083021_PCA_results/091421_combined_f2247_f2257_50Kexomes_pca\n",
    "gwas_sbatch=$OUT_PATH/qc1_combined_qcarray_50K_$(date +\"%Y-%m-%d\").sbatch\n",
    "## Use qc'ed genotype array\n",
    "genoFile=~/UKBiobank/genotype_files_processed/090221_sample_variant_qc_final_callrate90/cache/UKB_genotypedatadownloaded083019.090221_sample_variant_qc_final_callrate90.filtered.extracted.bed\n",
    "keep_samples=$UKBB_PATH/results/083021_PCA_results/090321_UKBB_Combined_f2247_f2257_expandedwhite_32878ind_50Kexomes.keep_id\n",
    "keep_variants=$UKBB_PATH/results/083021_PCA_results/090221_ldprun_unrelated/cache/*.090221_ldprun_unrelated.filtered.prune.in\n",
    "#GWAS QC variables set all of this variables to 0 to avoid doing more filtering\n",
    "maf_filter=0\n",
    "geno_filter=0\n",
    "hwe_filter=0\n",
    "mind_filter=0\n",
    "mem='30G'\n",
    "\n",
    "gwasqc_args=\"\"\"qc:1\n",
    "    --cwd $cwd\n",
    "    --genoFile $genoFile\n",
    "    --keep_samples $keep_samples\n",
    "    --keep_variants $keep_variants\n",
    "    --maf_filter $maf_filter\n",
    "    --geno_filter $geno_filter\n",
    "    --hwe_filter $hwe_filter\n",
    "    --mind_filter $mind_filter\n",
    "    --numThreads $numThreads \n",
    "    --job_size $job_size\n",
    "    --container_lmm $container_lmm\n",
    "    --mem $mem\n",
    "\"\"\"\n",
    "\n",
    "sos run $USER_PATH/UKBB_GWAS_dev/admin/Get_Job_Script.ipynb csg \\\n",
    "    --template-file $tpl_file \\\n",
    "    --workflow-file $gwasqc_sos \\\n",
    "    --to-script $gwas_sbatch \\\n",
    "    --args \"$gwasqc_args\""
   ]
  },
  {
   "cell_type": "markdown",
   "id": "59e6332a-2e06-487a-ab15-08dd1adf7637",
   "metadata": {
    "kernel": "Bash"
   },
   "source": [
    "#### Step 2. "
   ]
  },
  {
   "cell_type": "code",
   "execution_count": null,
   "id": "13855082-d9d8-4787-84d8-db9f6884e401",
   "metadata": {
    "kernel": "Bash"
   },
   "outputs": [],
   "source": [
    "cwd=$UKBB_PATH/results/083021_PCA_results/091421_combined_f2247_f2257_50Kexomes_pca\n",
    "#This is the bfile obtained in step 1\n",
    "genoFile=$UKBB_PATH/results/083021_PCA_results/091421_combined_f2247_f2257_50Kexomes_pca/cache/*.bed\n",
    "# Format FID, IID, ethnicity\n",
    "phenoFile=$UKBB_PATH/results/083021_PCA_results/090321_UKBB_Combined_f2247_f2257_expandedwhite_32878ind_50K.phenopca\n",
    "label_col=ethnicity\n",
    "pop_col=ethnicity\n",
    "pca_sbatch=$OUT_PATH/flashpca_combined_pc_50K_$(date +\"%Y-%m-%d\").sbatch\n",
    "k=2\n",
    "min_axis=0\n",
    "max_axis=0\n",
    "\n",
    "pca_args=\"\"\"flashpca\n",
    "    --cwd $cwd\n",
    "    --genoFile $genoFile\n",
    "    --phenoFile $phenoFile\n",
    "    --k $k\n",
    "    --label_col $label_col\n",
    "    --pop_col $pop_col\n",
    "    --min_axis $min_axis\n",
    "    --max_axis $max_axis\n",
    "    --numThreads $numThreads \n",
    "    --job_size $job_size\n",
    "    --container_lmm $container_lmm\n",
    "\"\"\"\n",
    "\n",
    "sos run  $USER_PATH/UKBB_GWAS_dev/admin/Get_Job_Script.ipynb csg\\\n",
    "    --template-file $tpl_file \\\n",
    "    --workflow-file $pca_sos \\\n",
    "    --to-script $pca_sbatch \\\n",
    "    --args \"$pca_args\""
   ]
  },
  {
   "cell_type": "markdown",
   "id": "4ea65042-536b-4898-8e59-b9d2af983f24",
   "metadata": {
    "kernel": "Bash"
   },
   "source": [
    "## H-both Discovery\n",
    "\n",
    "#### Step 1."
   ]
  },
  {
   "cell_type": "code",
   "execution_count": null,
   "id": "a436e4ee-94fa-4461-b155-c0e96dd5a4b7",
   "metadata": {
    "kernel": "Bash"
   },
   "outputs": [],
   "source": [
    "cwd=$UKBB_PATH/results/083021_PCA_results/091421_combined_f2247_f2257_150Kexomes_pca\n",
    "gwas_sbatch=$OUT_PATH/qc1_combined_qcarray_150K_$(date +\"%Y-%m-%d\").sbatch\n",
    "## Use qc'ed genotype array\n",
    "genoFile=~/UKBiobank/genotype_files_processed/090221_sample_variant_qc_final_callrate90/cache/UKB_genotypedatadownloaded083019.090221_sample_variant_qc_final_callrate90.filtered.extracted.bed\n",
    "keep_samples=$UKBB_PATH/results/083021_PCA_results/090321_UKBB_Combined_f2247_f2257_expandedwhite_102133ind_150Kexomes.keep_id\n",
    "keep_variants=$UKBB_PATH/results/083021_PCA_results/090221_ldprun_unrelated/cache/*.090221_ldprun_unrelated.filtered.prune.in\n",
    "#GWAS QC variables set all of this variables to 0 to avoid doing more filtering\n",
    "maf_filter=0\n",
    "geno_filter=0\n",
    "hwe_filter=0\n",
    "mind_filter=0\n",
    "mem='30G'\n",
    "\n",
    "gwasqc_args=\"\"\"qc:1\n",
    "    --cwd $cwd\n",
    "    --genoFile $genoFile\n",
    "    --keep_samples $keep_samples\n",
    "    --keep_variants $keep_variants\n",
    "    --maf_filter $maf_filter\n",
    "    --geno_filter $geno_filter\n",
    "    --hwe_filter $hwe_filter\n",
    "    --mind_filter $mind_filter\n",
    "    --numThreads $numThreads \n",
    "    --job_size $job_size\n",
    "    --container_lmm $container_lmm\n",
    "    --mem $mem\n",
    "\"\"\"\n",
    "\n",
    "sos run $USER_PATH/UKBB_GWAS_dev/admin/Get_Job_Script.ipynb csg \\\n",
    "    --template-file $tpl_file \\\n",
    "    --workflow-file $gwasqc_sos \\\n",
    "    --to-script $gwas_sbatch \\\n",
    "    --args \"$gwasqc_args\""
   ]
  },
  {
   "cell_type": "markdown",
   "id": "6c30eab8-d2e5-4f40-aa41-959a3089eb6d",
   "metadata": {
    "kernel": "Bash"
   },
   "source": [
    "#### Step 2."
   ]
  },
  {
   "cell_type": "code",
   "execution_count": null,
   "id": "0c615250-8ceb-4041-8a83-0e976b5a7bce",
   "metadata": {
    "kernel": "Bash"
   },
   "outputs": [],
   "source": [
    "cwd=$UKBB_PATH/results/083021_PCA_results/091421_combined_f2247_f2257_150Kexomes_pca\n",
    "#This is the bfile obtained in step 1\n",
    "genoFile=$UKBB_PATH/results/083021_PCA_results/091421_combined_f2247_f2257_150Kexomes_pca/cache/*.bed\n",
    "# Format FID, IID, ethnicity\n",
    "phenoFile=$UKBB_PATH/results/083021_PCA_results/090321_UKBB_Combined_f2247_f2257_expandedwhite_102133ind_150K.phenopca\n",
    "label_col=ethnicity\n",
    "pop_col=ethnicity\n",
    "pca_sbatch=$OUT_PATH/flashpca_combined_pc_150K_$(date +\"%Y-%m-%d\").sbatch\n",
    "k=2\n",
    "min_axis=0\n",
    "max_axis=0\n",
    "\n",
    "pca_args=\"\"\"flashpca\n",
    "    --cwd $cwd\n",
    "    --genoFile $genoFile\n",
    "    --phenoFile $phenoFile\n",
    "    --k $k\n",
    "    --label_col $label_col\n",
    "    --pop_col $pop_col\n",
    "    --min_axis $min_axis\n",
    "    --max_axis $max_axis\n",
    "    --numThreads $numThreads \n",
    "    --job_size $job_size\n",
    "    --container_lmm $container_lmm\n",
    "\"\"\"\n",
    "\n",
    "sos run  $USER_PATH/UKBB_GWAS_dev/admin/Get_Job_Script.ipynb csg\\\n",
    "    --template-file $tpl_file \\\n",
    "    --workflow-file $pca_sos \\\n",
    "    --to-script $pca_sbatch \\\n",
    "    --args \"$pca_args\""
   ]
  }
 ],
 "metadata": {
  "kernelspec": {
   "display_name": "SoS",
   "language": "sos",
   "name": "sos"
  },
  "language_info": {
   "codemirror_mode": "sos",
   "file_extension": ".sos",
   "mimetype": "text/x-sos",
   "name": "sos",
   "nbconvert_exporter": "sos_notebook.converter.SoS_Exporter",
   "pygments_lexer": "sos"
  },
  "sos": {
   "kernels": [
    [
     "SoS",
     "sos",
     "",
     ""
    ]
   ],
   "version": "0.22.6"
  }
 },
 "nbformat": 4,
 "nbformat_minor": 5
}
